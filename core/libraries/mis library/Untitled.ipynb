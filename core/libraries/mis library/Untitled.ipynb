{
 "cells": [
  {
   "cell_type": "markdown",
   "id": "71096837",
   "metadata": {},
   "source": [
    "# library"
   ]
  },
  {
   "cell_type": "raw",
   "id": "ce369c64",
   "metadata": {},
   "source": [
    "datetime\n",
    "os\n",
    "calander\n",
    "math\n",
    "collections\n",
    "abc\n",
    "socket\n",
    "\n",
    "requests\n",
    "ittertools\n",
    "hashlib\n",
    "\n",
    "shutil\n"
   ]
  },
  {
   "cell_type": "markdown",
   "id": "9530bcb8",
   "metadata": {
    "jp-MarkdownHeadingCollapsed": true,
    "tags": []
   },
   "source": [
    "# datetime"
   ]
  },
  {
   "cell_type": "code",
   "execution_count": 1,
   "id": "77026744",
   "metadata": {},
   "outputs": [],
   "source": [
    "import datetime"
   ]
  },
  {
   "cell_type": "code",
   "execution_count": 2,
   "id": "8d89fedb",
   "metadata": {},
   "outputs": [
    {
     "name": "stdout",
     "output_type": "stream",
     "text": [
      "['MAXYEAR', 'MINYEAR', '__all__', '__builtins__', '__cached__', '__doc__', '__file__', '__loader__', '__name__', '__package__', '__spec__', 'date', 'datetime', 'datetime_CAPI', 'sys', 'time', 'timedelta', 'timezone', 'tzinfo']\n"
     ]
    }
   ],
   "source": [
    "print(dir(datetime))"
   ]
  },
  {
   "cell_type": "code",
   "execution_count": 3,
   "id": "f6d3da12",
   "metadata": {},
   "outputs": [
    {
     "name": "stdout",
     "output_type": "stream",
     "text": [
      "2022-08-22 11:47:25.748154\n"
     ]
    }
   ],
   "source": [
    "datetime_object = datetime.datetime.now()\n",
    "print(datetime_object)"
   ]
  },
  {
   "cell_type": "code",
   "execution_count": 4,
   "id": "4f0820af",
   "metadata": {},
   "outputs": [
    {
     "name": "stdout",
     "output_type": "stream",
     "text": [
      "2022-08-22\n"
     ]
    }
   ],
   "source": [
    "date_object = datetime.date.today()\n",
    "print(date_object)"
   ]
  },
  {
   "cell_type": "code",
   "execution_count": 5,
   "id": "7e620900",
   "metadata": {},
   "outputs": [],
   "source": [
    "import pytz"
   ]
  },
  {
   "cell_type": "code",
   "execution_count": 6,
   "id": "6a463c0c",
   "metadata": {},
   "outputs": [
    {
     "name": "stdout",
     "output_type": "stream",
     "text": [
      "2022-08-22 02:17:25.889803-04:00\n"
     ]
    }
   ],
   "source": [
    "tz_NY = pytz.timezone('America/New_York') \n",
    "datetime_NY = datetime.datetime.now(tz_NY)\n",
    "print(datetime_NY)"
   ]
  },
  {
   "cell_type": "markdown",
   "id": "d4168a50",
   "metadata": {},
   "source": [
    "date to string and vice versa"
   ]
  },
  {
   "cell_type": "code",
   "execution_count": 7,
   "id": "d15f43fd",
   "metadata": {},
   "outputs": [
    {
     "name": "stdout",
     "output_type": "stream",
     "text": [
      "08/22/2022, 02:17:25\n"
     ]
    }
   ],
   "source": [
    "print(datetime_NY.strftime(\"%m/%d/%Y, %H:%M:%S\"))"
   ]
  },
  {
   "cell_type": "code",
   "execution_count": 8,
   "id": "6c013111",
   "metadata": {},
   "outputs": [
    {
     "name": "stdout",
     "output_type": "stream",
     "text": [
      "2018-11-12 09:15:32\n"
     ]
    }
   ],
   "source": [
    "dt_string = \"12/11/2018 09:15:32\"\n",
    "dt_object1 = datetime.datetime.strptime(dt_string, \"%d/%m/%Y %H:%M:%S\")\n",
    "print(dt_object1)"
   ]
  },
  {
   "cell_type": "code",
   "execution_count": 9,
   "id": "af57df7c",
   "metadata": {},
   "outputs": [
    {
     "name": "stdout",
     "output_type": "stream",
     "text": [
      "after 3 sec\n"
     ]
    }
   ],
   "source": [
    "import time\n",
    "time.sleep(3)\n",
    "print('after 3 sec')"
   ]
  },
  {
   "cell_type": "markdown",
   "id": "5983bfec",
   "metadata": {
    "tags": []
   },
   "source": [
    "# os"
   ]
  },
  {
   "cell_type": "code",
   "execution_count": 10,
   "id": "1b9c4f5a",
   "metadata": {},
   "outputs": [],
   "source": [
    "import os "
   ]
  },
  {
   "cell_type": "code",
   "execution_count": 11,
   "id": "1f33a63d",
   "metadata": {},
   "outputs": [
    {
     "data": {
      "text/plain": [
       "'D:\\\\Python\\\\libraries\\\\New folder (2)'"
      ]
     },
     "execution_count": 11,
     "metadata": {},
     "output_type": "execute_result"
    }
   ],
   "source": [
    "os.getcwd() "
   ]
  },
  {
   "cell_type": "code",
   "execution_count": 12,
   "id": "ba33c34f",
   "metadata": {},
   "outputs": [],
   "source": [
    "os.chdir('../') "
   ]
  },
  {
   "cell_type": "code",
   "execution_count": 13,
   "id": "f1ff7be6",
   "metadata": {},
   "outputs": [
    {
     "data": {
      "text/plain": [
       "'D:\\\\Python\\\\libraries'"
      ]
     },
     "execution_count": 13,
     "metadata": {},
     "output_type": "execute_result"
    }
   ],
   "source": [
    "os.getcwd()"
   ]
  },
  {
   "cell_type": "code",
   "execution_count": 14,
   "id": "0606ac4f",
   "metadata": {},
   "outputs": [],
   "source": [
    "os.chdir('New folder (2)') "
   ]
  },
  {
   "cell_type": "code",
   "execution_count": 15,
   "id": "96f81490",
   "metadata": {},
   "outputs": [
    {
     "data": {
      "text/plain": [
       "'D:\\\\Python\\\\libraries\\\\New folder (2)'"
      ]
     },
     "execution_count": 15,
     "metadata": {},
     "output_type": "execute_result"
    }
   ],
   "source": [
    "os.getcwd()"
   ]
  },
  {
   "cell_type": "code",
   "execution_count": 16,
   "id": "0a769bd4",
   "metadata": {},
   "outputs": [],
   "source": [
    "# os.mkdir('folder3')"
   ]
  },
  {
   "cell_type": "code",
   "execution_count": 17,
   "id": "a81f5190",
   "metadata": {},
   "outputs": [
    {
     "data": {
      "text/plain": [
       "['.ipynb_checkpoints', 'file.txt', 'folder3', 'Untitled.ipynb']"
      ]
     },
     "execution_count": 17,
     "metadata": {},
     "output_type": "execute_result"
    }
   ],
   "source": [
    "os.listdir()"
   ]
  },
  {
   "cell_type": "markdown",
   "id": "9ce15d2d-706e-4a22-b9ed-dddc32953cd6",
   "metadata": {},
   "source": [
    "os.makedirs() - "
   ]
  },
  {
   "cell_type": "markdown",
   "id": "032e7995-8377-470c-9115-4bd602bf6264",
   "metadata": {},
   "source": [
    "os.makedir() - "
   ]
  },
  {
   "cell_type": "markdown",
   "id": "f9b740f3-d697-4578-82f9-a3f67a3ffeb8",
   "metadata": {},
   "source": [
    "os.listdir()"
   ]
  },
  {
   "cell_type": "markdown",
   "id": "2782bcd5-9c57-4a81-a61a-4c9e3a910fa9",
   "metadata": {},
   "source": [
    "os.remove() - delete a file"
   ]
  },
  {
   "cell_type": "markdown",
   "id": "6e049127-1195-4cd4-96d0-b0095da008c7",
   "metadata": {},
   "source": [
    "os.rmdir() - delete an empty dir"
   ]
  },
  {
   "cell_type": "markdown",
   "id": "39829242-be1f-4f3b-be36-bcb3036d69b4",
   "metadata": {},
   "source": [
    "os.path.basename(path) - get last one"
   ]
  },
  {
   "cell_type": "markdown",
   "id": "cacadc4c-bfc1-492f-b7b0-2dbde6fc94ba",
   "metadata": {},
   "source": [
    "os.path.dirname(path) - get entire path without last one"
   ]
  },
  {
   "cell_type": "code",
   "execution_count": null,
   "id": "bf7b2c88-5187-4594-93ca-f62e27cc6084",
   "metadata": {},
   "outputs": [],
   "source": []
  },
  {
   "cell_type": "markdown",
   "id": "a6abeb3c-3f8a-4ac5-89a2-d58017f6e07b",
   "metadata": {},
   "source": [
    "os.path.join(parent_dir, directory) - join dir"
   ]
  },
  {
   "cell_type": "markdown",
   "id": "bcea2611-20e9-4648-b69e-745c4701174b",
   "metadata": {},
   "source": [
    "os.path.isfile(path) - is file available"
   ]
  },
  {
   "cell_type": "markdown",
   "id": "fbff2d68-d23e-427b-bcd7-1afe32a5905c",
   "metadata": {},
   "source": [
    "os.path.isdir(path) - is dir available"
   ]
  },
  {
   "cell_type": "markdown",
   "id": "05b8dad2-fccb-4998-956c-4a7715f6302c",
   "metadata": {},
   "source": [
    "os.path.exists(\"file_name\") "
   ]
  },
  {
   "cell_type": "markdown",
   "id": "f6dc4aeb-5871-4b2f-b688-ea3d0a01fb95",
   "metadata": {},
   "source": [
    "os.path.getsize(\"filename\")"
   ]
  },
  {
   "cell_type": "code",
   "execution_count": null,
   "id": "0f7defa9-3419-45ee-8ac1-7dc15bff3e46",
   "metadata": {},
   "outputs": [],
   "source": []
  },
  {
   "cell_type": "markdown",
   "id": "b36de959-e515-485a-8fe4-b129608ce6be",
   "metadata": {},
   "source": [
    "os.environ: A dictionary-like object containing environment variables.\n",
    "os.getenv(key): Get the value of an environment variable."
   ]
  },
  {
   "cell_type": "code",
   "execution_count": null,
   "id": "90e89cec-daf6-4da3-8271-41f7ce8da4ab",
   "metadata": {},
   "outputs": [],
   "source": []
  },
  {
   "cell_type": "markdown",
   "id": "dec4c216",
   "metadata": {
    "jp-MarkdownHeadingCollapsed": true,
    "tags": []
   },
   "source": [
    "# calander"
   ]
  },
  {
   "cell_type": "code",
   "execution_count": 22,
   "id": "3cd28b6c",
   "metadata": {},
   "outputs": [],
   "source": [
    "import calendar"
   ]
  },
  {
   "cell_type": "code",
   "execution_count": 23,
   "id": "9f08bf46",
   "metadata": {},
   "outputs": [
    {
     "data": {
      "text/plain": [
       "'    August 2022\\nMo Tu We Th Fr Sa Su\\n 1  2  3  4  5  6  7\\n 8  9 10 11 12 13 14\\n15 16 17 18 19 20 21\\n22 23 24 25 26 27 28\\n29 30 31\\n'"
      ]
     },
     "execution_count": 23,
     "metadata": {},
     "output_type": "execute_result"
    }
   ],
   "source": [
    "calendar.month(2022,8)"
   ]
  },
  {
   "cell_type": "code",
   "execution_count": 24,
   "id": "45e04428",
   "metadata": {},
   "outputs": [
    {
     "data": {
      "text/plain": [
       "'                                  2022\\n\\n      January                   February                   March\\nMo Tu We Th Fr Sa Su      Mo Tu We Th Fr Sa Su      Mo Tu We Th Fr Sa Su\\n                1  2          1  2  3  4  5  6          1  2  3  4  5  6\\n 3  4  5  6  7  8  9       7  8  9 10 11 12 13       7  8  9 10 11 12 13\\n10 11 12 13 14 15 16      14 15 16 17 18 19 20      14 15 16 17 18 19 20\\n17 18 19 20 21 22 23      21 22 23 24 25 26 27      21 22 23 24 25 26 27\\n24 25 26 27 28 29 30      28                        28 29 30 31\\n31\\n\\n       April                      May                       June\\nMo Tu We Th Fr Sa Su      Mo Tu We Th Fr Sa Su      Mo Tu We Th Fr Sa Su\\n             1  2  3                         1             1  2  3  4  5\\n 4  5  6  7  8  9 10       2  3  4  5  6  7  8       6  7  8  9 10 11 12\\n11 12 13 14 15 16 17       9 10 11 12 13 14 15      13 14 15 16 17 18 19\\n18 19 20 21 22 23 24      16 17 18 19 20 21 22      20 21 22 23 24 25 26\\n25 26 27 28 29 30         23 24 25 26 27 28 29      27 28 29 30\\n                          30 31\\n\\n        July                     August                  September\\nMo Tu We Th Fr Sa Su      Mo Tu We Th Fr Sa Su      Mo Tu We Th Fr Sa Su\\n             1  2  3       1  2  3  4  5  6  7                1  2  3  4\\n 4  5  6  7  8  9 10       8  9 10 11 12 13 14       5  6  7  8  9 10 11\\n11 12 13 14 15 16 17      15 16 17 18 19 20 21      12 13 14 15 16 17 18\\n18 19 20 21 22 23 24      22 23 24 25 26 27 28      19 20 21 22 23 24 25\\n25 26 27 28 29 30 31      29 30 31                  26 27 28 29 30\\n\\n      October                   November                  December\\nMo Tu We Th Fr Sa Su      Mo Tu We Th Fr Sa Su      Mo Tu We Th Fr Sa Su\\n                1  2          1  2  3  4  5  6                1  2  3  4\\n 3  4  5  6  7  8  9       7  8  9 10 11 12 13       5  6  7  8  9 10 11\\n10 11 12 13 14 15 16      14 15 16 17 18 19 20      12 13 14 15 16 17 18\\n17 18 19 20 21 22 23      21 22 23 24 25 26 27      19 20 21 22 23 24 25\\n24 25 26 27 28 29 30      28 29 30                  26 27 28 29 30 31\\n31\\n'"
      ]
     },
     "execution_count": 24,
     "metadata": {},
     "output_type": "execute_result"
    }
   ],
   "source": [
    "calendar.calendar(2022)"
   ]
  },
  {
   "cell_type": "code",
   "execution_count": 25,
   "id": "2178d210",
   "metadata": {},
   "outputs": [],
   "source": []
  },
  {
   "cell_type": "code",
   "execution_count": 26,
   "id": "fb823b00",
   "metadata": {},
   "outputs": [],
   "source": []
  },
  {
   "cell_type": "markdown",
   "id": "1afb416d",
   "metadata": {
    "jp-MarkdownHeadingCollapsed": true,
    "tags": []
   },
   "source": [
    " # requests"
   ]
  },
  {
   "cell_type": "code",
   "execution_count": 27,
   "id": "873112c4",
   "metadata": {},
   "outputs": [],
   "source": [
    "import requests"
   ]
  },
  {
   "cell_type": "code",
   "execution_count": 28,
   "id": "ee892ece",
   "metadata": {},
   "outputs": [],
   "source": [
    "r = requests.get('https://api.github.com/users/niteshsahujhansi')"
   ]
  },
  {
   "cell_type": "code",
   "execution_count": 29,
   "id": "21ee4eb1",
   "metadata": {},
   "outputs": [
    {
     "data": {
      "text/plain": [
       "<Response [200]>"
      ]
     },
     "execution_count": 29,
     "metadata": {},
     "output_type": "execute_result"
    }
   ],
   "source": [
    "r"
   ]
  },
  {
   "cell_type": "code",
   "execution_count": 30,
   "id": "d794f316",
   "metadata": {
    "scrolled": true
   },
   "outputs": [
    {
     "data": {
      "text/plain": [
       "b'{\"login\":\"niteshsahujhansi\",\"id\":90353118,\"node_id\":\"MDQ6VXNlcjkwMzUzMTE4\",\"avatar_url\":\"https://avatars.githubusercontent.com/u/90353118?v=4\",\"gravatar_id\":\"\",\"url\":\"https://api.github.com/users/niteshsahujhansi\",\"html_url\":\"https://github.com/niteshsahujhansi\",\"followers_url\":\"https://api.github.com/users/niteshsahujhansi/followers\",\"following_url\":\"https://api.github.com/users/niteshsahujhansi/following{/other_user}\",\"gists_url\":\"https://api.github.com/users/niteshsahujhansi/gists{/gist_id}\",\"starred_url\":\"https://api.github.com/users/niteshsahujhansi/starred{/owner}{/repo}\",\"subscriptions_url\":\"https://api.github.com/users/niteshsahujhansi/subscriptions\",\"organizations_url\":\"https://api.github.com/users/niteshsahujhansi/orgs\",\"repos_url\":\"https://api.github.com/users/niteshsahujhansi/repos\",\"events_url\":\"https://api.github.com/users/niteshsahujhansi/events{/privacy}\",\"received_events_url\":\"https://api.github.com/users/niteshsahujhansi/received_events\",\"type\":\"User\",\"site_admin\":false,\"name\":\"NITESH SAHU\",\"company\":null,\"blog\":\"\",\"location\":null,\"email\":null,\"hireable\":true,\"bio\":null,\"twitter_username\":null,\"public_repos\":9,\"public_gists\":0,\"followers\":2,\"following\":5,\"created_at\":\"2021-09-08T20:17:22Z\",\"updated_at\":\"2022-08-10T11:41:33Z\"}'"
      ]
     },
     "execution_count": 30,
     "metadata": {},
     "output_type": "execute_result"
    }
   ],
   "source": [
    "r.content"
   ]
  },
  {
   "cell_type": "code",
   "execution_count": 31,
   "id": "5a21dc48",
   "metadata": {},
   "outputs": [],
   "source": [
    "response = requests.get('https://api.github.com/')"
   ]
  },
  {
   "cell_type": "code",
   "execution_count": 32,
   "id": "be5cf27b",
   "metadata": {},
   "outputs": [
    {
     "data": {
      "text/plain": [
       "'https://api.github.com/'"
      ]
     },
     "execution_count": 32,
     "metadata": {},
     "output_type": "execute_result"
    }
   ],
   "source": [
    "response.url"
   ]
  },
  {
   "cell_type": "code",
   "execution_count": 33,
   "id": "2566a1e2",
   "metadata": {},
   "outputs": [
    {
     "data": {
      "text/plain": [
       "200"
      ]
     },
     "execution_count": 33,
     "metadata": {},
     "output_type": "execute_result"
    }
   ],
   "source": [
    "response.status_code"
   ]
  },
  {
   "cell_type": "code",
   "execution_count": 34,
   "id": "7c6eaa79",
   "metadata": {},
   "outputs": [
    {
     "data": {
      "text/plain": [
       "{'current_user_url': 'https://api.github.com/user',\n",
       " 'current_user_authorizations_html_url': 'https://github.com/settings/connections/applications{/client_id}',\n",
       " 'authorizations_url': 'https://api.github.com/authorizations',\n",
       " 'code_search_url': 'https://api.github.com/search/code?q={query}{&page,per_page,sort,order}',\n",
       " 'commit_search_url': 'https://api.github.com/search/commits?q={query}{&page,per_page,sort,order}',\n",
       " 'emails_url': 'https://api.github.com/user/emails',\n",
       " 'emojis_url': 'https://api.github.com/emojis',\n",
       " 'events_url': 'https://api.github.com/events',\n",
       " 'feeds_url': 'https://api.github.com/feeds',\n",
       " 'followers_url': 'https://api.github.com/user/followers',\n",
       " 'following_url': 'https://api.github.com/user/following{/target}',\n",
       " 'gists_url': 'https://api.github.com/gists{/gist_id}',\n",
       " 'hub_url': 'https://api.github.com/hub',\n",
       " 'issue_search_url': 'https://api.github.com/search/issues?q={query}{&page,per_page,sort,order}',\n",
       " 'issues_url': 'https://api.github.com/issues',\n",
       " 'keys_url': 'https://api.github.com/user/keys',\n",
       " 'label_search_url': 'https://api.github.com/search/labels?q={query}&repository_id={repository_id}{&page,per_page}',\n",
       " 'notifications_url': 'https://api.github.com/notifications',\n",
       " 'organization_url': 'https://api.github.com/orgs/{org}',\n",
       " 'organization_repositories_url': 'https://api.github.com/orgs/{org}/repos{?type,page,per_page,sort}',\n",
       " 'organization_teams_url': 'https://api.github.com/orgs/{org}/teams',\n",
       " 'public_gists_url': 'https://api.github.com/gists/public',\n",
       " 'rate_limit_url': 'https://api.github.com/rate_limit',\n",
       " 'repository_url': 'https://api.github.com/repos/{owner}/{repo}',\n",
       " 'repository_search_url': 'https://api.github.com/search/repositories?q={query}{&page,per_page,sort,order}',\n",
       " 'current_user_repositories_url': 'https://api.github.com/user/repos{?type,page,per_page,sort}',\n",
       " 'starred_url': 'https://api.github.com/user/starred{/owner}{/repo}',\n",
       " 'starred_gists_url': 'https://api.github.com/gists/starred',\n",
       " 'topic_search_url': 'https://api.github.com/search/topics?q={query}{&page,per_page}',\n",
       " 'user_url': 'https://api.github.com/users/{user}',\n",
       " 'user_organizations_url': 'https://api.github.com/user/orgs',\n",
       " 'user_repositories_url': 'https://api.github.com/users/{user}/repos{?type,page,per_page,sort}',\n",
       " 'user_search_url': 'https://api.github.com/search/users?q={query}{&page,per_page,sort,order}'}"
      ]
     },
     "execution_count": 34,
     "metadata": {},
     "output_type": "execute_result"
    }
   ],
   "source": [
    "response.json()"
   ]
  },
  {
   "cell_type": "markdown",
   "id": "d10e524d",
   "metadata": {
    "jp-MarkdownHeadingCollapsed": true,
    "tags": []
   },
   "source": [
    "# random"
   ]
  },
  {
   "cell_type": "code",
   "execution_count": 35,
   "id": "adc3ba02",
   "metadata": {},
   "outputs": [],
   "source": [
    "import random"
   ]
  },
  {
   "cell_type": "code",
   "execution_count": 36,
   "id": "29620b5f",
   "metadata": {},
   "outputs": [
    {
     "data": {
      "text/plain": [
       "0.4782479962566343"
      ]
     },
     "execution_count": 36,
     "metadata": {},
     "output_type": "execute_result"
    }
   ],
   "source": [
    "random.seed('1')\n",
    "random.random()"
   ]
  },
  {
   "cell_type": "code",
   "execution_count": 37,
   "id": "a2be1f55",
   "metadata": {},
   "outputs": [
    {
     "data": {
      "text/plain": [
       "1"
      ]
     },
     "execution_count": 37,
     "metadata": {},
     "output_type": "execute_result"
    }
   ],
   "source": [
    "\n",
    "random.randint(1,10)"
   ]
  },
  {
   "cell_type": "code",
   "execution_count": 38,
   "id": "ffd9dfb4",
   "metadata": {},
   "outputs": [
    {
     "data": {
      "text/plain": [
       "2"
      ]
     },
     "execution_count": 38,
     "metadata": {},
     "output_type": "execute_result"
    }
   ],
   "source": [
    "random.choice([2,4,6,8,10])"
   ]
  },
  {
   "cell_type": "code",
   "execution_count": 39,
   "id": "a9237d58",
   "metadata": {},
   "outputs": [
    {
     "data": {
      "text/plain": [
       "[10, 8]"
      ]
     },
     "execution_count": 39,
     "metadata": {},
     "output_type": "execute_result"
    }
   ],
   "source": [
    "random.choices([2,4,6,8,10,12,14,16,18,20], k=2)"
   ]
  },
  {
   "cell_type": "code",
   "execution_count": 40,
   "id": "ead303a9",
   "metadata": {},
   "outputs": [],
   "source": [
    "li = [2,4,6,8,10,12,14,16,18,20]"
   ]
  },
  {
   "cell_type": "code",
   "execution_count": 41,
   "id": "ba375e3b",
   "metadata": {},
   "outputs": [],
   "source": [
    "random.shuffle(li)"
   ]
  },
  {
   "cell_type": "code",
   "execution_count": 42,
   "id": "8d7f5aae",
   "metadata": {},
   "outputs": [
    {
     "data": {
      "text/plain": [
       "[8, 16, 6, 12, 14, 4, 10, 18, 20, 2]"
      ]
     },
     "execution_count": 42,
     "metadata": {},
     "output_type": "execute_result"
    }
   ],
   "source": [
    "li"
   ]
  },
  {
   "cell_type": "code",
   "execution_count": 43,
   "id": "c8745045",
   "metadata": {},
   "outputs": [
    {
     "data": {
      "text/plain": [
       "[16, 2, 6]"
      ]
     },
     "execution_count": 43,
     "metadata": {},
     "output_type": "execute_result"
    }
   ],
   "source": [
    "random.sample(li,k=3)"
   ]
  },
  {
   "cell_type": "code",
   "execution_count": 44,
   "id": "ba106d99",
   "metadata": {},
   "outputs": [
    {
     "data": {
      "text/plain": [
       "0.48959011472001746"
      ]
     },
     "execution_count": 44,
     "metadata": {},
     "output_type": "execute_result"
    }
   ],
   "source": [
    "random.random()"
   ]
  },
  {
   "cell_type": "code",
   "execution_count": null,
   "id": "ba305abc",
   "metadata": {},
   "outputs": [],
   "source": []
  },
  {
   "cell_type": "markdown",
   "id": "1cc515a8-b80c-4ae1-9682-13ba46fdd868",
   "metadata": {
    "jp-MarkdownHeadingCollapsed": true,
    "tags": []
   },
   "source": [
    "# shutil"
   ]
  },
  {
   "cell_type": "code",
   "execution_count": 7,
   "id": "447db6ef",
   "metadata": {},
   "outputs": [],
   "source": [
    "import shutil"
   ]
  },
  {
   "cell_type": "markdown",
   "id": "c31fd5b0-f1fb-48fc-8a6f-bea1c1a784b9",
   "metadata": {},
   "source": [
    "https://www.geeksforgeeks.org/shutil-module-in-python/"
   ]
  },
  {
   "cell_type": "markdown",
   "id": "49094146-60c4-416c-a12c-8ab8e51c192a",
   "metadata": {},
   "source": [
    "shutil.copy() - copy a file from a dir to a dir"
   ]
  },
  {
   "cell_type": "markdown",
   "id": "2313b684-4550-4ab2-ba7d-47a55e8247bf",
   "metadata": {},
   "source": [
    "shutil2.copy()  - copy a file from a dir to a dir "
   ]
  },
  {
   "cell_type": "markdown",
   "id": "f2f261e6-5637-4ed5-9ac9-24dcc0867efb",
   "metadata": {},
   "source": [
    "shutil.copyfile() -  - copy a file from a dir to a dir without metadata"
   ]
  },
  {
   "cell_type": "markdown",
   "id": "e9cec4d0-7dfe-440e-a0e4-611d938538e1",
   "metadata": {},
   "source": [
    "shutil.copytree() - entire dicrectory"
   ]
  },
  {
   "cell_type": "markdown",
   "id": "2dd8d234-353f-430b-98d7-75bbff4965b0",
   "metadata": {},
   "source": [
    "shutil.rmtree() - delete an entire directory tree"
   ]
  },
  {
   "cell_type": "code",
   "execution_count": null,
   "id": "1437e9be-e53d-443c-913f-8029f8b02e49",
   "metadata": {},
   "outputs": [],
   "source": []
  }
 ],
 "metadata": {
  "kernelspec": {
   "display_name": "Python 3 (ipykernel)",
   "language": "python",
   "name": "python3"
  },
  "language_info": {
   "codemirror_mode": {
    "name": "ipython",
    "version": 3
   },
   "file_extension": ".py",
   "mimetype": "text/x-python",
   "name": "python",
   "nbconvert_exporter": "python",
   "pygments_lexer": "ipython3",
   "version": "3.11.1"
  }
 },
 "nbformat": 4,
 "nbformat_minor": 5
}
