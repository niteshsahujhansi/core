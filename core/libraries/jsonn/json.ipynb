{
 "cells": [
  {
   "cell_type": "markdown",
   "id": "33237ad2-515b-4c9a-a244-7d1f66a1a538",
   "metadata": {},
   "source": [
    "JSON (JavaScript Object Notation)"
   ]
  },
  {
   "cell_type": "markdown",
   "id": "e7f0c3f8-5ce9-4f78-8257-c991ea7d398d",
   "metadata": {},
   "source": [
    "popular data format used for representing structured data\n",
    "\n",
    "It's common to transmit and receive data between a server and web application in JSON format.\n",
    "\n",
    "In Python, JSON exists as a string. For example:\n",
    "p = '{\"name\": \"Bob\", \"languages\": [\"Python\", \"Java\"]}'\n"
   ]
  },
  {
   "cell_type": "code",
   "execution_count": null,
   "id": "e418637d-a264-4f94-8e7e-d3660dc597f0",
   "metadata": {},
   "outputs": [],
   "source": []
  },
  {
   "cell_type": "code",
   "execution_count": null,
   "id": "68911cf5-6338-4d30-b809-cc3d6f9b5be6",
   "metadata": {},
   "outputs": [],
   "source": []
  },
  {
   "cell_type": "code",
   "execution_count": null,
   "id": "702d2926-fc12-4d54-8463-aeeb5288ca32",
   "metadata": {},
   "outputs": [],
   "source": []
  },
  {
   "cell_type": "code",
   "execution_count": null,
   "id": "e845dded-8dca-435d-ad99-fa55fd1a7e3d",
   "metadata": {},
   "outputs": [],
   "source": []
  },
  {
   "cell_type": "code",
   "execution_count": null,
   "id": "ae1d7f7d-9fea-4fb6-9b94-7b84a8932eb8",
   "metadata": {},
   "outputs": [],
   "source": []
  },
  {
   "cell_type": "code",
   "execution_count": null,
   "id": "a2d558ed-6403-431c-a65f-dcd4490736a1",
   "metadata": {},
   "outputs": [],
   "source": []
  },
  {
   "cell_type": "code",
   "execution_count": null,
   "id": "689440ab-5aad-49ce-a140-c7956fbaf6a8",
   "metadata": {},
   "outputs": [],
   "source": []
  },
  {
   "cell_type": "code",
   "execution_count": 3,
   "id": "07feb9c8-fd56-46ce-ae67-cdc03370dcd4",
   "metadata": {},
   "outputs": [],
   "source": [
    "import json"
   ]
  },
  {
   "cell_type": "code",
   "execution_count": null,
   "id": "d6434186-9b94-4ce6-b0d8-59cfc257fc99",
   "metadata": {},
   "outputs": [],
   "source": []
  },
  {
   "cell_type": "markdown",
   "id": "da1a3baf-4b87-4d05-8f4d-a3210e23303a",
   "metadata": {},
   "source": [
    "https://www.geeksforgeeks.org/python-json/"
   ]
  },
  {
   "cell_type": "markdown",
   "id": "6bd3cd8b-c03c-4124-8d2b-37c9eda1ded3",
   "metadata": {},
   "source": [
    "**JSON to Python (Parse JSON) (Decoding)**"
   ]
  },
  {
   "cell_type": "code",
   "execution_count": 17,
   "id": "78bbb5d6-72da-43c2-934f-6c3c25800e67",
   "metadata": {},
   "outputs": [
    {
     "data": {
      "text/plain": [
       "str"
      ]
     },
     "execution_count": 17,
     "metadata": {},
     "output_type": "execute_result"
    }
   ],
   "source": [
    "with open('emp.json') as emp:\n",
    "    data = emp.read()\n",
    "type(data)"
   ]
  },
  {
   "cell_type": "code",
   "execution_count": 7,
   "id": "18a0c108-bcb1-4f18-a4f7-70c061ae0258",
   "metadata": {},
   "outputs": [
    {
     "data": {
      "text/plain": [
       "str"
      ]
     },
     "execution_count": 7,
     "metadata": {},
     "output_type": "execute_result"
    }
   ],
   "source": [
    "employee ='{\"id\":\"09\", \"name\": \"Nitin\", \"department\":\"Finance\"}'\n",
    "type(employee)"
   ]
  },
  {
   "cell_type": "code",
   "execution_count": 10,
   "id": "05676ff5-47b4-4145-93f5-5fe2ee56710a",
   "metadata": {},
   "outputs": [
    {
     "data": {
      "text/plain": [
       "dict"
      ]
     },
     "execution_count": 10,
     "metadata": {},
     "output_type": "execute_result"
    }
   ],
   "source": [
    "employee_dict = json.loads(employee)\n",
    "employee_dict\n",
    "type(employee_dict)"
   ]
  },
  {
   "cell_type": "code",
   "execution_count": null,
   "id": "20b21008-f7d4-4680-a346-ba7f66aa84fd",
   "metadata": {},
   "outputs": [],
   "source": []
  },
  {
   "cell_type": "markdown",
   "id": "a6412019-508d-4cb0-88b5-f8e2760f3504",
   "metadata": {},
   "source": [
    "**Python read JSON file**"
   ]
  },
  {
   "cell_type": "code",
   "execution_count": 4,
   "id": "3a862fda-97b1-49eb-a173-09eb076e7040",
   "metadata": {},
   "outputs": [],
   "source": [
    "f = open('emp.json',)"
   ]
  },
  {
   "cell_type": "code",
   "execution_count": 5,
   "id": "5aa1bfee-fac8-4d8f-b498-957f426524d9",
   "metadata": {},
   "outputs": [
    {
     "name": "stdout",
     "output_type": "stream",
     "text": [
      "{'id': '01', 'name': 'Amit', 'department': 'Sales'}\n",
      "{'id': '04', 'name': 'sunil', 'department': 'HR'}\n"
     ]
    }
   ],
   "source": [
    "f = open('emp.json')\n",
    "\n",
    "data = json.load(f)\n",
    "\n",
    "for i in data['employee']:\n",
    "    print(i)\n",
    "\n",
    "f.close()"
   ]
  },
  {
   "cell_type": "code",
   "execution_count": null,
   "id": "80b3b348-b98c-4eba-aece-ecebbeea3982",
   "metadata": {},
   "outputs": [],
   "source": []
  },
  {
   "cell_type": "markdown",
   "id": "a11b6fd5-1e75-4b98-9145-7be46c9f6df2",
   "metadata": {},
   "source": [
    "**Python to JSON (Encoding)**"
   ]
  },
  {
   "cell_type": "code",
   "execution_count": 6,
   "id": "eb7764b6-caa2-4356-b3e1-3b15020bacf1",
   "metadata": {},
   "outputs": [
    {
     "data": {
      "text/plain": [
       "'{\\n    \"id\": \"09\",\\n    \"name\": \"Nitin\",\\n    \"department\": \"Finance\"\\n}'"
      ]
     },
     "execution_count": 6,
     "metadata": {},
     "output_type": "execute_result"
    }
   ],
   "source": [
    "emp_json = json.dumps(employee_dict, indent = 4)\n",
    "emp_json"
   ]
  },
  {
   "cell_type": "markdown",
   "id": "9dacfb5e-3ad3-4a84-bbf1-155a6550a903",
   "metadata": {},
   "source": [
    "**Python write JSON file**"
   ]
  },
  {
   "cell_type": "code",
   "execution_count": 7,
   "id": "78c5c5ea-0445-4e5d-aaeb-f85b2c2cd58e",
   "metadata": {},
   "outputs": [],
   "source": [
    "with open(\"emp2.json\", \"w\") as outfile:\n",
    "    json.dump(employee_dict, outfile)"
   ]
  },
  {
   "cell_type": "code",
   "execution_count": null,
   "id": "90095b64-b7d6-40e1-b61f-3dccb4963c58",
   "metadata": {},
   "outputs": [],
   "source": []
  },
  {
   "cell_type": "code",
   "execution_count": 8,
   "id": "6dda155e-4637-41fb-ba75-3f08b8a28e75",
   "metadata": {},
   "outputs": [],
   "source": [
    "import jsonify"
   ]
  },
  {
   "cell_type": "code",
   "execution_count": 9,
   "id": "c054a500-beb8-4afd-b5af-f5c176f8a30d",
   "metadata": {},
   "outputs": [],
   "source": [
    "from flask import Flask, jsonify"
   ]
  },
  {
   "cell_type": "code",
   "execution_count": 10,
   "id": "433a4524-490b-4f6e-a6d2-982ed01ed0ba",
   "metadata": {},
   "outputs": [],
   "source": [
    "from django.http import JsonResponse"
   ]
  },
  {
   "cell_type": "code",
   "execution_count": 11,
   "id": "e8dfe4fb-92bf-4fd2-b40a-4bb6949f71b3",
   "metadata": {},
   "outputs": [],
   "source": [
    "# from rest_framework.renderers import JSONRenderer\n",
    "# from rest_framework.response import Response"
   ]
  },
  {
   "cell_type": "code",
   "execution_count": null,
   "id": "b776b083-1aba-4302-8c78-f98f434d6cce",
   "metadata": {},
   "outputs": [],
   "source": []
  },
  {
   "cell_type": "markdown",
   "id": "6ae9e736-afd5-48c1-9d9b-3d04c164381e",
   "metadata": {},
   "source": [
    "**Append to JSON file**"
   ]
  },
  {
   "cell_type": "markdown",
   "id": "576b5425-50c8-4bca-a885-9098367726d2",
   "metadata": {},
   "source": [
    "https://www.geeksforgeeks.org/append-to-json-file-using-python/"
   ]
  },
  {
   "cell_type": "markdown",
   "id": "2d7acf15-e8c6-470c-a9f8-032981a37e1e",
   "metadata": {},
   "source": [
    "falcon api"
   ]
  },
  {
   "cell_type": "markdown",
   "id": "408179ce-7db8-46bc-84ab-f2295d491d12",
   "metadata": {},
   "source": [
    "**pdf to txt**"
   ]
  },
  {
   "cell_type": "code",
   "execution_count": 3,
   "id": "23d55ff4-944a-4c9e-9895-4a7d0bb0b0ea",
   "metadata": {},
   "outputs": [],
   "source": [
    "# # importing required modules\n",
    "# from PyPDF2 import PdfReader\n",
    " \n",
    "# # creating a pdf reader object\n",
    "# reader = PdfReader('example.pdf')\n",
    " \n",
    "# # printing number of pages in pdf file\n",
    "# print(len(reader.pages))\n",
    " \n",
    "# # getting a specific page from the pdf file\n",
    "# page = reader.pages[0]\n",
    " \n",
    "# # extracting text from page\n",
    "# text = page.extract_text()\n",
    "# print(text)"
   ]
  },
  {
   "cell_type": "code",
   "execution_count": 6,
   "id": "23a54a32-f512-469c-80fe-d14d5c7dd415",
   "metadata": {},
   "outputs": [
    {
     "ename": "ValueError",
     "evalue": "too many values to unpack (expected 2)",
     "output_type": "error",
     "traceback": [
      "\u001b[1;31m---------------------------------------------------------------------------\u001b[0m",
      "\u001b[1;31mValueError\u001b[0m                                Traceback (most recent call last)",
      "Cell \u001b[1;32mIn[6], line 11\u001b[0m\n\u001b[0;32m      9\u001b[0m     data \u001b[38;5;241m=\u001b[39m {}\n\u001b[0;32m     10\u001b[0m     \u001b[38;5;28;01mfor\u001b[39;00m line \u001b[38;5;129;01min\u001b[39;00m contents\u001b[38;5;241m.\u001b[39msplitlines():\n\u001b[1;32m---> 11\u001b[0m         key, value \u001b[38;5;241m=\u001b[39m line\u001b[38;5;241m.\u001b[39msplit(\u001b[38;5;124m'\u001b[39m\u001b[38;5;124m \u001b[39m\u001b[38;5;124m'\u001b[39m)\n\u001b[0;32m     12\u001b[0m         data[key\u001b[38;5;241m.\u001b[39mstrip()] \u001b[38;5;241m=\u001b[39m value\u001b[38;5;241m.\u001b[39mstrip()\n\u001b[0;32m     14\u001b[0m \u001b[38;5;66;03m# Open a new JSON file and write the dictionary to it\u001b[39;00m\n",
      "\u001b[1;31mValueError\u001b[0m: too many values to unpack (expected 2)"
     ]
    }
   ],
   "source": [
    "import json\n",
    "\n",
    "# Open the TXT file\n",
    "with open('data.txt', 'r') as file:\n",
    "    # Read the contents of the file\n",
    "    contents = file.read()\n",
    "\n",
    "    # Convert the contents to a dictionary\n",
    "    data = {}\n",
    "    for line in contents.splitlines():\n",
    "        key, value = line.split(' ')\n",
    "        data[key.strip()] = value.strip()\n",
    "\n",
    "# Open a new JSON file and write the dictionary to it\n",
    "with open('data.json', 'w') as file:\n",
    "    json.dump(data, file)"
   ]
  },
  {
   "cell_type": "code",
   "execution_count": null,
   "id": "00d1d11a-7d2c-452b-98e2-479ec5990706",
   "metadata": {},
   "outputs": [],
   "source": []
  }
 ],
 "metadata": {
  "kernelspec": {
   "display_name": "Python 3 (ipykernel)",
   "language": "python",
   "name": "python3"
  },
  "language_info": {
   "codemirror_mode": {
    "name": "ipython",
    "version": 3
   },
   "file_extension": ".py",
   "mimetype": "text/x-python",
   "name": "python",
   "nbconvert_exporter": "python",
   "pygments_lexer": "ipython3",
   "version": "3.11.1"
  }
 },
 "nbformat": 4,
 "nbformat_minor": 5
}
