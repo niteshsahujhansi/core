{
 "cells": [
  {
   "cell_type": "code",
   "execution_count": 1,
   "id": "8ae50e90-6555-4a97-8630-36e765e6825e",
   "metadata": {},
   "outputs": [],
   "source": [
    "import json"
   ]
  },
  {
   "cell_type": "markdown",
   "id": "da1a3baf-4b87-4d05-8f4d-a3210e23303a",
   "metadata": {},
   "source": [
    "https://www.geeksforgeeks.org/python-json/"
   ]
  },
  {
   "cell_type": "markdown",
   "id": "6bd3cd8b-c03c-4124-8d2b-37c9eda1ded3",
   "metadata": {},
   "source": [
    "**Convert from JSON to Python (Parse JSON)**"
   ]
  },
  {
   "cell_type": "code",
   "execution_count": 2,
   "id": "18a0c108-bcb1-4f18-a4f7-70c061ae0258",
   "metadata": {},
   "outputs": [],
   "source": [
    "employee ='{\"id\":\"09\", \"name\": \"Nitin\", \"department\":\"Finance\"}'"
   ]
  },
  {
   "cell_type": "code",
   "execution_count": 3,
   "id": "05676ff5-47b4-4145-93f5-5fe2ee56710a",
   "metadata": {},
   "outputs": [
    {
     "data": {
      "text/plain": [
       "{'id': '09', 'name': 'Nitin', 'department': 'Finance'}"
      ]
     },
     "execution_count": 3,
     "metadata": {},
     "output_type": "execute_result"
    }
   ],
   "source": [
    "employee_dict = json.loads(employee)\n",
    "employee_dict"
   ]
  },
  {
   "cell_type": "markdown",
   "id": "a6412019-508d-4cb0-88b5-f8e2760f3504",
   "metadata": {},
   "source": [
    "**Python read JSON file**"
   ]
  },
  {
   "cell_type": "code",
   "execution_count": 4,
   "id": "3a862fda-97b1-49eb-a173-09eb076e7040",
   "metadata": {},
   "outputs": [],
   "source": [
    "f = open('emp.json',)"
   ]
  },
  {
   "cell_type": "code",
   "execution_count": 5,
   "id": "5aa1bfee-fac8-4d8f-b498-957f426524d9",
   "metadata": {},
   "outputs": [
    {
     "name": "stdout",
     "output_type": "stream",
     "text": [
      "{'id': '01', 'name': 'Amit', 'department': 'Sales'}\n",
      "{'id': '04', 'name': 'sunil', 'department': 'HR'}\n"
     ]
    }
   ],
   "source": [
    "f = open('emp.json')\n",
    "\n",
    "data = json.load(f)\n",
    "\n",
    "for i in data['employee']:\n",
    "    print(i)\n",
    "\n",
    "f.close()"
   ]
  },
  {
   "cell_type": "code",
   "execution_count": null,
   "id": "80b3b348-b98c-4eba-aece-ecebbeea3982",
   "metadata": {},
   "outputs": [],
   "source": []
  },
  {
   "cell_type": "markdown",
   "id": "a11b6fd5-1e75-4b98-9145-7be46c9f6df2",
   "metadata": {},
   "source": [
    "**Convert from Python to JSON**"
   ]
  },
  {
   "cell_type": "code",
   "execution_count": 6,
   "id": "eb7764b6-caa2-4356-b3e1-3b15020bacf1",
   "metadata": {},
   "outputs": [
    {
     "data": {
      "text/plain": [
       "'{\\n    \"id\": \"09\",\\n    \"name\": \"Nitin\",\\n    \"department\": \"Finance\"\\n}'"
      ]
     },
     "execution_count": 6,
     "metadata": {},
     "output_type": "execute_result"
    }
   ],
   "source": [
    "emp_json = json.dumps(employee_dict, indent = 4)\n",
    "emp_json"
   ]
  },
  {
   "cell_type": "markdown",
   "id": "9dacfb5e-3ad3-4a84-bbf1-155a6550a903",
   "metadata": {},
   "source": [
    "**Python write JSON file**"
   ]
  },
  {
   "cell_type": "code",
   "execution_count": 7,
   "id": "78c5c5ea-0445-4e5d-aaeb-f85b2c2cd58e",
   "metadata": {},
   "outputs": [],
   "source": [
    "with open(\"emp2.json\", \"w\") as outfile:\n",
    "    json.dump(employee_dict, outfile)"
   ]
  },
  {
   "cell_type": "code",
   "execution_count": null,
   "id": "90095b64-b7d6-40e1-b61f-3dccb4963c58",
   "metadata": {},
   "outputs": [],
   "source": []
  },
  {
   "cell_type": "code",
   "execution_count": 8,
   "id": "6dda155e-4637-41fb-ba75-3f08b8a28e75",
   "metadata": {},
   "outputs": [],
   "source": [
    "import jsonify"
   ]
  },
  {
   "cell_type": "code",
   "execution_count": 9,
   "id": "c054a500-beb8-4afd-b5af-f5c176f8a30d",
   "metadata": {},
   "outputs": [],
   "source": [
    "from flask import Flask, jsonify"
   ]
  },
  {
   "cell_type": "code",
   "execution_count": 10,
   "id": "433a4524-490b-4f6e-a6d2-982ed01ed0ba",
   "metadata": {},
   "outputs": [],
   "source": [
    "from django.http import JsonResponse"
   ]
  },
  {
   "cell_type": "code",
   "execution_count": 11,
   "id": "e8dfe4fb-92bf-4fd2-b40a-4bb6949f71b3",
   "metadata": {},
   "outputs": [],
   "source": [
    "# from rest_framework.renderers import JSONRenderer\n",
    "# from rest_framework.response import Response"
   ]
  },
  {
   "cell_type": "code",
   "execution_count": null,
   "id": "b776b083-1aba-4302-8c78-f98f434d6cce",
   "metadata": {},
   "outputs": [],
   "source": []
  },
  {
   "cell_type": "markdown",
   "id": "6ae9e736-afd5-48c1-9d9b-3d04c164381e",
   "metadata": {},
   "source": [
    "**Append to JSON file**"
   ]
  },
  {
   "cell_type": "markdown",
   "id": "576b5425-50c8-4bca-a885-9098367726d2",
   "metadata": {},
   "source": [
    "https://www.geeksforgeeks.org/append-to-json-file-using-python/"
   ]
  },
  {
   "cell_type": "markdown",
   "id": "2d7acf15-e8c6-470c-a9f8-032981a37e1e",
   "metadata": {},
   "source": [
    "falcon api"
   ]
  },
  {
   "cell_type": "code",
   "execution_count": null,
   "id": "23d55ff4-944a-4c9e-9895-4a7d0bb0b0ea",
   "metadata": {},
   "outputs": [],
   "source": []
  }
 ],
 "metadata": {
  "kernelspec": {
   "display_name": "Python 3 (ipykernel)",
   "language": "python",
   "name": "python3"
  },
  "language_info": {
   "codemirror_mode": {
    "name": "ipython",
    "version": 3
   },
   "file_extension": ".py",
   "mimetype": "text/x-python",
   "name": "python",
   "nbconvert_exporter": "python",
   "pygments_lexer": "ipython3",
   "version": "3.11.1"
  }
 },
 "nbformat": 4,
 "nbformat_minor": 5
}
