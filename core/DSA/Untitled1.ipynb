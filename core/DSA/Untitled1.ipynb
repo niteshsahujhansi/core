{
 "cells": [
  {
   "cell_type": "markdown",
   "id": "b1f913a6-cc76-47be-b788-1076733fe971",
   "metadata": {},
   "source": [
    "https://www.geeksforgeeks.org/learn-data-structures-and-algorithms-dsa-tutorial/"
   ]
  },
  {
   "cell_type": "markdown",
   "id": "7e4fd6ee-7ceb-4e20-b2db-9a725c97ab40",
   "metadata": {},
   "source": [
    "Time Complexity"
   ]
  },
  {
   "cell_type": "markdown",
   "id": "e08b1a7f-cec5-46ea-a251-91f312b0f81c",
   "metadata": {},
   "source": [
    "Time complexity is used to measure the amount of time required to execute the code."
   ]
  },
  {
   "cell_type": "markdown",
   "id": "d2a53d75-dfc1-4d51-abd3-2c92b8ef2153",
   "metadata": {},
   "source": [
    "Time Complexity considers how many times each statement executes. "
   ]
  },
  {
   "cell_type": "markdown",
   "id": "fa1c85fb-05e0-4b96-b825-ccfe5760c635",
   "metadata": {},
   "source": [
    "https://i.stack.imgur.com/ZEmZ6.png"
   ]
  },
  {
   "cell_type": "markdown",
   "id": "45bf2664-f428-408d-92c3-307d2fdbc5ea",
   "metadata": {},
   "source": [
    "input size and execution time"
   ]
  },
  {
   "cell_type": "code",
   "execution_count": null,
   "id": "d33f9451-a27c-4ce6-bc99-711ec456b33a",
   "metadata": {},
   "outputs": [],
   "source": []
  },
  {
   "cell_type": "code",
   "execution_count": null,
   "id": "729fd6e0-b431-4ef4-b13c-fcd9f53ff007",
   "metadata": {},
   "outputs": [],
   "source": []
  },
  {
   "cell_type": "code",
   "execution_count": null,
   "id": "bf639fbf-4d77-4177-b0d6-03254b3b73b1",
   "metadata": {},
   "outputs": [],
   "source": []
  },
  {
   "cell_type": "code",
   "execution_count": null,
   "id": "606581b4-f60d-474f-9ddb-99c299c2270d",
   "metadata": {},
   "outputs": [],
   "source": []
  },
  {
   "cell_type": "markdown",
   "id": "5a18010c-9558-467d-a875-28d0b458c8a4",
   "metadata": {},
   "source": [
    "Space Complexity"
   ]
  },
  {
   "cell_type": "markdown",
   "id": "b8c60d5c-90d6-46e1-bc80-6ac0b6e9a563",
   "metadata": {},
   "source": [
    "Space complexity means the amount of space required to execute successfully the functionalities of the code."
   ]
  },
  {
   "cell_type": "markdown",
   "id": "ab97fa17-1ef1-4a55-b5be-7f638b43df6d",
   "metadata": {},
   "source": [
    "The space Complexity of an algorithm is the total space taken by the algorithm with respect to the input size. Space complexity includes both Auxiliary space and space used by input."
   ]
  },
  {
   "cell_type": "markdown",
   "id": "d71e4611-580f-488c-90ec-6bb264db7fdc",
   "metadata": {},
   "source": [
    " Auxiliary Space refers to the extra space used in the program other than the input data structure."
   ]
  },
  {
   "cell_type": "markdown",
   "id": "0b4910bd-8da0-449a-8d76-1e569cf4fcb9",
   "metadata": {},
   "source": [
    "Auxiliary Space is the extra space or temporary space used by an algorithm."
   ]
  },
  {
   "cell_type": "markdown",
   "id": "5bef2cac-5076-4991-a87f-3dccd59f4568",
   "metadata": {},
   "source": [
    "For example, if we want to compare standard sorting algorithms on the basis of space, then Auxiliary Space would be a better criterion than Space Complexity. Merge Sort uses O(n) auxiliary space, Insertion sort, and Heap Sort use O(1) auxiliary space. The space complexity of all these sorting algorithms is O(n) though."
   ]
  },
  {
   "cell_type": "markdown",
   "id": "47bb922c-3ea6-41cf-a5dc-80256b98bb36",
   "metadata": {},
   "source": [
    "Space complexity is a parallel concept to time complexity. If we need to create an array of size n, this will require O(n) space. If we create a two-dimensional array of size n*n, this will require O(n2) space."
   ]
  },
  {
   "cell_type": "code",
   "execution_count": null,
   "id": "4227f98e-d79f-4b50-a865-28c6b2fb24c2",
   "metadata": {},
   "outputs": [],
   "source": []
  },
  {
   "cell_type": "code",
   "execution_count": null,
   "id": "fb154254-86ba-452c-8186-227873cd11bf",
   "metadata": {},
   "outputs": [],
   "source": []
  },
  {
   "cell_type": "code",
   "execution_count": null,
   "id": "549ae93a-0855-4eef-8497-088786a48383",
   "metadata": {},
   "outputs": [],
   "source": []
  },
  {
   "cell_type": "code",
   "execution_count": null,
   "id": "906990a2-af5a-418f-9464-69301e8fcde0",
   "metadata": {},
   "outputs": [],
   "source": []
  },
  {
   "cell_type": "markdown",
   "id": "eb16365f-1147-4c18-8277-4ac40a19efdf",
   "metadata": {},
   "source": [
    "O(1) - constant"
   ]
  },
  {
   "cell_type": "code",
   "execution_count": 9,
   "id": "ffec68d3-2ff2-4950-863d-2f4c6cf9dedf",
   "metadata": {},
   "outputs": [
    {
     "name": "stdout",
     "output_type": "stream",
     "text": [
      "Hello World\n"
     ]
    }
   ],
   "source": [
    "print(\"Hello World\")"
   ]
  },
  {
   "cell_type": "markdown",
   "id": "4cb2af52-8501-4e9e-b86c-7c9bf6921319",
   "metadata": {},
   "source": [
    "constant: O(1)\n",
    "\n",
    "Auxiliary Space: O(1)"
   ]
  },
  {
   "cell_type": "markdown",
   "id": "c50cf222-89a1-4b96-b644-19790ba10267",
   "metadata": {},
   "source": [
    "O(n) - linear"
   ]
  },
  {
   "cell_type": "code",
   "execution_count": 11,
   "id": "606fed15-00b6-435c-a4ff-2ecc4a412c27",
   "metadata": {},
   "outputs": [
    {
     "name": "stdout",
     "output_type": "stream",
     "text": [
      "Hello World !!!\n",
      "Hello World !!!\n",
      "Hello World !!!\n",
      "Hello World !!!\n",
      "Hello World !!!\n",
      "Hello World !!!\n",
      "Hello World !!!\n",
      "Hello World !!!\n"
     ]
    }
   ],
   "source": [
    "n = 8\n",
    "for i in range(1, n + 1):\n",
    "    print(\"Hello World !!!\")"
   ]
  },
  {
   "cell_type": "markdown",
   "id": "8886c912-e8d5-4d61-9bcf-9f7ff93065ce",
   "metadata": {},
   "source": [
    "linear: O(n)\n",
    "\n",
    "Auxiliary Space: O(1)"
   ]
  },
  {
   "cell_type": "code",
   "execution_count": 7,
   "id": "5abfbe4b-76e2-4345-8a02-ca39a5ece816",
   "metadata": {},
   "outputs": [
    {
     "name": "stdout",
     "output_type": "stream",
     "text": [
      "Hello World !!!\n",
      "Hello World !!!\n",
      "Hello World !!!\n",
      "Hello World !!!\n"
     ]
    }
   ],
   "source": [
    "n = 8\n",
    "for i in range(1,9,+2):\n",
    "    print(\"Hello World !!!\")"
   ]
  },
  {
   "cell_type": "markdown",
   "id": "5cc6afa5-3540-4ff3-808f-28fd5c0396ca",
   "metadata": {},
   "source": [
    "Time Complexity: O(log2(n))\n",
    "\n",
    "Auxiliary Space: O(1)"
   ]
  },
  {
   "cell_type": "code",
   "execution_count": 8,
   "id": "337c4325-25fa-465c-b892-1f82b243b0af",
   "metadata": {},
   "outputs": [
    {
     "ename": "SyntaxError",
     "evalue": "invalid syntax (1682378211.py, line 1)",
     "output_type": "error",
     "traceback": [
      "\u001b[1;36m  Cell \u001b[1;32mIn[8], line 1\u001b[1;36m\u001b[0m\n\u001b[1;33m    int isPrime(int n)\u001b[0m\n\u001b[1;37m        ^\u001b[0m\n\u001b[1;31mSyntaxError\u001b[0m\u001b[1;31m:\u001b[0m invalid syntax\n"
     ]
    }
   ],
   "source": [
    "int isPrime(int n)\n",
    "{\n",
    "    if (n == 1)\n",
    "    {\n",
    "        return 0;\n",
    "    }\n",
    "    for (int i = 2; i * i < n; i++)\n",
    "    {\n",
    "        if (n % i == 0)\n",
    "        {\n",
    "            return 0;\n",
    "        }\n",
    "    }\n",
    "    return 1;\n",
    "}"
   ]
  },
  {
   "cell_type": "markdown",
   "id": "3b109f3d-aa94-486a-b07a-47432e3d9b4e",
   "metadata": {},
   "source": [
    "Time Complexity: O(√n)\n",
    "\n",
    "Auxiliary Space: O(1)"
   ]
  },
  {
   "cell_type": "code",
   "execution_count": null,
   "id": "7901888e-4a1f-47fc-92b0-e96c21a564f1",
   "metadata": {},
   "outputs": [],
   "source": []
  },
  {
   "cell_type": "code",
   "execution_count": null,
   "id": "82909b62-5f16-43c3-9f5c-11d853da96ab",
   "metadata": {},
   "outputs": [],
   "source": []
  },
  {
   "cell_type": "code",
   "execution_count": null,
   "id": "192c2311-a90a-4ceb-b2c1-5a6d0e8eebd1",
   "metadata": {},
   "outputs": [],
   "source": []
  },
  {
   "cell_type": "code",
   "execution_count": null,
   "id": "3cf79f22-e4ae-4af8-81bc-9ed4378eb464",
   "metadata": {},
   "outputs": [],
   "source": []
  },
  {
   "cell_type": "code",
   "execution_count": null,
   "id": "467277f9-e41e-40bc-99af-cfa3003c80a6",
   "metadata": {},
   "outputs": [],
   "source": []
  },
  {
   "cell_type": "code",
   "execution_count": null,
   "id": "a61a9979-871f-4f9a-b479-544556b93474",
   "metadata": {},
   "outputs": [],
   "source": []
  },
  {
   "cell_type": "code",
   "execution_count": null,
   "id": "84338ff3-09dc-4b7c-bd13-7895deb358b6",
   "metadata": {},
   "outputs": [],
   "source": []
  },
  {
   "cell_type": "code",
   "execution_count": null,
   "id": "cb7fa87b-8e34-41e7-81b6-8af51686a4b8",
   "metadata": {},
   "outputs": [],
   "source": []
  },
  {
   "cell_type": "code",
   "execution_count": null,
   "id": "ab974f42-f2aa-4825-89fd-9c7eac96f126",
   "metadata": {},
   "outputs": [],
   "source": []
  },
  {
   "cell_type": "code",
   "execution_count": null,
   "id": "21c1a0d9-79b7-4da2-8b96-29b315a29967",
   "metadata": {},
   "outputs": [],
   "source": []
  },
  {
   "cell_type": "code",
   "execution_count": null,
   "id": "7786011b-f052-4729-8b11-0e6f87317b7b",
   "metadata": {},
   "outputs": [],
   "source": []
  },
  {
   "cell_type": "code",
   "execution_count": null,
   "id": "d1f1385d-2b79-4801-bb91-65ae79d899a9",
   "metadata": {},
   "outputs": [],
   "source": []
  },
  {
   "cell_type": "code",
   "execution_count": null,
   "id": "22257542-44d6-4743-9125-2432ba34bcd6",
   "metadata": {},
   "outputs": [],
   "source": []
  }
 ],
 "metadata": {
  "kernelspec": {
   "display_name": "Python 3 (ipykernel)",
   "language": "python",
   "name": "python3"
  },
  "language_info": {
   "codemirror_mode": {
    "name": "ipython",
    "version": 3
   },
   "file_extension": ".py",
   "mimetype": "text/x-python",
   "name": "python",
   "nbconvert_exporter": "python",
   "pygments_lexer": "ipython3",
   "version": "3.11.1"
  }
 },
 "nbformat": 4,
 "nbformat_minor": 5
}
