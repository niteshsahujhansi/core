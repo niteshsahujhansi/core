{
 "cells": [
  {
   "cell_type": "markdown",
   "id": "e47dd0cb-6b80-491b-8fc7-19de09e3ef4a",
   "metadata": {},
   "source": [
    "## dictionary"
   ]
  },
  {
   "cell_type": "code",
   "execution_count": 1,
   "id": "4ba8d311-85ca-406b-9a08-97af3b369b69",
   "metadata": {},
   "outputs": [],
   "source": [
    "dict_1 = {1:'first' ,2:2, 'first name': 'nitesh', 'middle name': '', 'last name': 'sahu', 'age':26}"
   ]
  },
  {
   "cell_type": "code",
   "execution_count": null,
   "id": "08f642cf-add0-4838-bd5e-683bf6981fd4",
   "metadata": {},
   "outputs": [],
   "source": []
  },
  {
   "cell_type": "markdown",
   "id": "75b33ab6-57e4-4a17-95e4-8562d63ecba6",
   "metadata": {},
   "source": [
    "**Add Elements to a Python Dictionary**"
   ]
  },
  {
   "cell_type": "code",
   "execution_count": 2,
   "id": "bf4f75f7-651f-47ff-9728-e6f499e48d85",
   "metadata": {},
   "outputs": [],
   "source": [
    "dict_1['qualification'] = 'BCA'"
   ]
  },
  {
   "cell_type": "code",
   "execution_count": null,
   "id": "3454efcd-99f8-42eb-9724-b14c538c9839",
   "metadata": {},
   "outputs": [],
   "source": []
  },
  {
   "cell_type": "markdown",
   "id": "31223e09-dd62-4039-b0eb-d0d2631146c5",
   "metadata": {},
   "source": [
    "**Change Value of Dictionary**"
   ]
  },
  {
   "cell_type": "code",
   "execution_count": 3,
   "id": "4a201015-284e-437a-898a-ce58548e2a7f",
   "metadata": {},
   "outputs": [],
   "source": [
    "dict_1['qualification'] = 'MCA'"
   ]
  },
  {
   "cell_type": "code",
   "execution_count": null,
   "id": "2c151011-eb85-4821-94b0-f3fff54399c2",
   "metadata": {},
   "outputs": [],
   "source": []
  },
  {
   "cell_type": "markdown",
   "id": "990f34d5-2dd5-4b86-b60a-dfc1c4779dec",
   "metadata": {},
   "source": [
    "**Accessing Elements from Dictionary**"
   ]
  },
  {
   "cell_type": "code",
   "execution_count": 4,
   "id": "49f6ee79-ec5f-43c9-b217-9f3f6b471d6c",
   "metadata": {},
   "outputs": [
    {
     "data": {
      "text/plain": [
       "'nitesh'"
      ]
     },
     "execution_count": 4,
     "metadata": {},
     "output_type": "execute_result"
    }
   ],
   "source": [
    "dict_1['first name']"
   ]
  },
  {
   "cell_type": "code",
   "execution_count": null,
   "id": "ca8ca764-bd6a-449b-abd8-111788697dc2",
   "metadata": {},
   "outputs": [],
   "source": []
  },
  {
   "cell_type": "markdown",
   "id": "ef54e522-1e5c-45dd-b00c-6a631fb6be3e",
   "metadata": {},
   "source": [
    "**Removing elements from Dictionary**"
   ]
  },
  {
   "cell_type": "code",
   "execution_count": 5,
   "id": "e7058cca-dea1-4c33-b36b-9c660cfbe66d",
   "metadata": {},
   "outputs": [],
   "source": [
    "del dict_1['age']"
   ]
  },
  {
   "cell_type": "code",
   "execution_count": null,
   "id": "32eb93c9-9571-4b35-b38b-337cf61ec520",
   "metadata": {},
   "outputs": [],
   "source": []
  },
  {
   "cell_type": "markdown",
   "id": "98a098ba-042a-4f25-baa7-47bf47c6390a",
   "metadata": {},
   "source": [
    "**Iterating Through a Dictionary**"
   ]
  },
  {
   "cell_type": "code",
   "execution_count": 6,
   "id": "2eb1ca30-2aba-4ada-bd44-c64b588257e9",
   "metadata": {},
   "outputs": [
    {
     "name": "stdout",
     "output_type": "stream",
     "text": [
      "1\n",
      "2\n",
      "first name\n",
      "middle name\n",
      "last name\n",
      "qualification\n"
     ]
    }
   ],
   "source": [
    "for i in dict_1:\n",
    "    print(i)"
   ]
  },
  {
   "cell_type": "code",
   "execution_count": 7,
   "id": "ac3f46ca-b7f8-47f5-9c0e-f125d0757303",
   "metadata": {},
   "outputs": [
    {
     "name": "stdout",
     "output_type": "stream",
     "text": [
      "1 first\n",
      "2 2\n",
      "first name nitesh\n",
      "middle name \n",
      "last name sahu\n",
      "qualification MCA\n"
     ]
    }
   ],
   "source": [
    "for i in dict_1:\n",
    "    print(i, dict_1[i])"
   ]
  },
  {
   "cell_type": "code",
   "execution_count": null,
   "id": "aaddea39-04ae-4fc6-9bfa-389b023a6d7d",
   "metadata": {},
   "outputs": [],
   "source": []
  },
  {
   "cell_type": "code",
   "execution_count": null,
   "id": "283d3092-9367-4de8-885a-c43dbfbb4c96",
   "metadata": {},
   "outputs": [],
   "source": []
  },
  {
   "cell_type": "markdown",
   "id": "771f68e2-15b7-442d-be39-5d20afd2b320",
   "metadata": {},
   "source": [
    "**Dictionary Membership Test**"
   ]
  },
  {
   "cell_type": "code",
   "execution_count": 8,
   "id": "d69face0-f017-4ccd-84ed-e8a2bae193ba",
   "metadata": {},
   "outputs": [
    {
     "data": {
      "text/plain": [
       "True"
      ]
     },
     "execution_count": 8,
     "metadata": {},
     "output_type": "execute_result"
    }
   ],
   "source": [
    "1 in dict_1"
   ]
  },
  {
   "cell_type": "code",
   "execution_count": 9,
   "id": "edd161d7-ef45-48d5-9d50-2c7b9a4b5482",
   "metadata": {},
   "outputs": [
    {
     "data": {
      "text/plain": [
       "False"
      ]
     },
     "execution_count": 9,
     "metadata": {},
     "output_type": "execute_result"
    }
   ],
   "source": [
    "3 in dict_1"
   ]
  },
  {
   "cell_type": "code",
   "execution_count": 10,
   "id": "f0eae34b-f9fa-49e2-8a82-fc28d52331ab",
   "metadata": {},
   "outputs": [],
   "source": [
    "# sahu in dict_1 \n",
    "# error"
   ]
  },
  {
   "cell_type": "markdown",
   "id": "66c27558-ebb5-413f-8413-867739bfcd0d",
   "metadata": {},
   "source": [
    "**Python Dictionary Methods**"
   ]
  },
  {
   "cell_type": "code",
   "execution_count": 11,
   "id": "db5153a3-5893-4a44-ac91-bc2841ad9a93",
   "metadata": {},
   "outputs": [],
   "source": [
    "# clear() removes all items from the dictionary."
   ]
  },
  {
   "cell_type": "code",
   "execution_count": 12,
   "id": "c5890e32-4e34-41d1-89f0-24c850075b1b",
   "metadata": {},
   "outputs": [],
   "source": [
    "# copy() method returns a copy (shallow copy) of the dictionary."
   ]
  },
  {
   "cell_type": "code",
   "execution_count": 13,
   "id": "44454eef-eafd-4402-8a60-cac3d50d0de8",
   "metadata": {},
   "outputs": [],
   "source": [
    "# The fromkeys() method creates a dictionary from the given sequence of keys and values."
   ]
  },
  {
   "cell_type": "code",
   "execution_count": 14,
   "id": "e5921c64-67f8-4db2-883e-f67acad43abc",
   "metadata": {},
   "outputs": [],
   "source": [
    "# get()"
   ]
  },
  {
   "cell_type": "code",
   "execution_count": 15,
   "id": "5aaa4bab-18b8-4c36-bf62-691b108753b2",
   "metadata": {},
   "outputs": [],
   "source": [
    "# items() method returns a list of dictionary's (key, value) tuple pairs."
   ]
  },
  {
   "cell_type": "code",
   "execution_count": 16,
   "id": "e641c6bb-acd0-485a-9c73-51488f5cc36b",
   "metadata": {},
   "outputs": [],
   "source": [
    "# keys() method returns the list of all keys."
   ]
  },
  {
   "cell_type": "code",
   "execution_count": 17,
   "id": "f833ebb0-ae0b-44ba-aa68-3144690df5a7",
   "metadata": {},
   "outputs": [],
   "source": [
    "# values() method returns a list of all the values."
   ]
  },
  {
   "cell_type": "code",
   "execution_count": 18,
   "id": "dccd1ee7-5ee8-43e3-ae84-24ebecac6151",
   "metadata": {},
   "outputs": [],
   "source": [
    "# popitem() method removes and returns the last element (key, value) pair"
   ]
  },
  {
   "cell_type": "code",
   "execution_count": 19,
   "id": "e4f96309-610c-4a92-b30a-e3de6c1713f7",
   "metadata": {},
   "outputs": [],
   "source": [
    "# pop() method removes and returns an element from a dictionary having the given key."
   ]
  },
  {
   "cell_type": "code",
   "execution_count": 20,
   "id": "ba7b3700-c442-4854-a393-fa171b7b07f6",
   "metadata": {},
   "outputs": [],
   "source": [
    "# setdefault() method returns the value of a key (if the key is in dictionary). If not, it inserts key with a value to the dictionary."
   ]
  },
  {
   "cell_type": "code",
   "execution_count": 21,
   "id": "5539e12b-4f42-48e0-a0ea-097e5e791127",
   "metadata": {},
   "outputs": [],
   "source": [
    "# update() method updates the dictionary with the elements from another dictionary object or from an iterable of key/value pairs."
   ]
  },
  {
   "cell_type": "code",
   "execution_count": null,
   "id": "bdf6071f-4f70-47c9-9a5e-89ce26e55065",
   "metadata": {},
   "outputs": [],
   "source": []
  },
  {
   "cell_type": "markdown",
   "id": "f31fb975-8791-45a7-b1e9-60ec23c238a1",
   "metadata": {},
   "source": [
    "**add two list as a key value pair**"
   ]
  },
  {
   "cell_type": "code",
   "execution_count": 22,
   "id": "35d12c85-fc69-4a85-a4a7-a1fa0b594845",
   "metadata": {},
   "outputs": [],
   "source": [
    "a=[1,2,3]\n",
    "b=['a','b','c']\n",
    "d={}"
   ]
  },
  {
   "cell_type": "code",
   "execution_count": 23,
   "id": "cf58bf7b-394f-4c85-a2d7-d7b266c3ce61",
   "metadata": {},
   "outputs": [
    {
     "data": {
      "text/plain": [
       "{1: 'a', 2: 'b', 3: 'c'}"
      ]
     },
     "execution_count": 23,
     "metadata": {},
     "output_type": "execute_result"
    }
   ],
   "source": [
    "for i in range(3):\n",
    "    d[a[i]] = b[i]\n",
    "d"
   ]
  },
  {
   "cell_type": "code",
   "execution_count": 24,
   "id": "8c5a8d69-905e-4b37-a2d7-8012ec5d7d5b",
   "metadata": {},
   "outputs": [
    {
     "data": {
      "text/plain": [
       "{1: 'a', 2: 'b', 3: 'c'}"
      ]
     },
     "execution_count": 24,
     "metadata": {},
     "output_type": "execute_result"
    }
   ],
   "source": [
    "dict(zip(a,b))"
   ]
  },
  {
   "cell_type": "markdown",
   "id": "5d6cc82e-cabf-4192-990e-39c10e671883",
   "metadata": {},
   "source": [
    "**Using Dictionary Comprehension To Create Dictionaries**"
   ]
  },
  {
   "cell_type": "code",
   "execution_count": 25,
   "id": "be9e2652-f57f-4f12-b21e-411661754939",
   "metadata": {},
   "outputs": [],
   "source": [
    "# cities = ['London', 'New York', 'Tokyo', 'Cambridge', 'Oxford']\n",
    "# countries = ['UK', 'US', 'Japan', 'UK', 'UK']\n",
    "# uk_cities = {city: country for city, country in zip(cities, countries) if country == 'UK'}\n",
    "# print(uk_cities)"
   ]
  },
  {
   "cell_type": "markdown",
   "id": "eccbf17a-546c-4949-8621-76416bf3f164",
   "metadata": {},
   "source": [
    "**Using Union Operators To Merge Dictionaries**"
   ]
  },
  {
   "cell_type": "code",
   "execution_count": 26,
   "id": "64dda558-2257-4c74-9c7a-c326ca98517f",
   "metadata": {},
   "outputs": [
    {
     "data": {
      "text/plain": [
       "{1: 'first',\n",
       " 2: 2,\n",
       " 'first name': 'nitesh',\n",
       " 'middle name': '',\n",
       " 'last name': 'sahu',\n",
       " 'qualification': 'MCA',\n",
       " 'age': 26}"
      ]
     },
     "execution_count": 26,
     "metadata": {},
     "output_type": "execute_result"
    }
   ],
   "source": [
    "dict_2 = {'age': 26}\n",
    "\n",
    "dict_1 | dict_2"
   ]
  },
  {
   "cell_type": "markdown",
   "id": "67f0e613-18a8-49b6-9535-3db37956d6bf",
   "metadata": {},
   "source": [
    "**Unpacking Dictionaries with Asterisks**"
   ]
  },
  {
   "cell_type": "code",
   "execution_count": 27,
   "id": "73f0a741-5074-43d2-88b0-9658a29c9b6e",
   "metadata": {},
   "outputs": [
    {
     "data": {
      "text/plain": [
       "{1: 'first',\n",
       " 2: 2,\n",
       " 'first name': 'nitesh',\n",
       " 'middle name': '',\n",
       " 'last name': 'sahu',\n",
       " 'qualification': 'MCA',\n",
       " 'age': 26}"
      ]
     },
     "execution_count": 27,
     "metadata": {},
     "output_type": "execute_result"
    }
   ],
   "source": [
    "{**dict_1, **dict_2}"
   ]
  },
  {
   "cell_type": "markdown",
   "id": "a4dcb545-d023-4332-a03f-121c84047331",
   "metadata": {},
   "source": [
    "**Reversing Keys and Values of a Dictionary**"
   ]
  },
  {
   "cell_type": "code",
   "execution_count": 28,
   "id": "5bbe996e-c448-4566-9727-0645db263d72",
   "metadata": {},
   "outputs": [
    {
     "data": {
      "text/plain": [
       "{'first': 1,\n",
       " 2: 2,\n",
       " 'nitesh': 'first name',\n",
       " '': 'middle name',\n",
       " 'sahu': 'last name',\n",
       " 'MCA': 'qualification'}"
      ]
     },
     "execution_count": 28,
     "metadata": {},
     "output_type": "execute_result"
    }
   ],
   "source": [
    "{v: k for k, v in dict_1.items()}"
   ]
  },
  {
   "cell_type": "code",
   "execution_count": 29,
   "id": "4fe216ed-7428-4142-9cfd-1d1c655e96fd",
   "metadata": {},
   "outputs": [
    {
     "data": {
      "text/plain": [
       "{'first': 1,\n",
       " 2: 2,\n",
       " 'nitesh': 'first name',\n",
       " '': 'middle name',\n",
       " 'sahu': 'last name',\n",
       " 'MCA': 'qualification'}"
      ]
     },
     "execution_count": 29,
     "metadata": {},
     "output_type": "execute_result"
    }
   ],
   "source": [
    "dict(zip(dict_1.values(), dict_1.keys()))"
   ]
  },
  {
   "cell_type": "code",
   "execution_count": 30,
   "id": "7aa41d41-e964-4925-bc4d-0c69ad3122a5",
   "metadata": {},
   "outputs": [
    {
     "data": {
      "text/plain": [
       "{'first': 1,\n",
       " 2: 2,\n",
       " 'nitesh': 'first name',\n",
       " '': 'middle name',\n",
       " 'sahu': 'last name',\n",
       " 'MCA': 'qualification'}"
      ]
     },
     "execution_count": 30,
     "metadata": {},
     "output_type": "execute_result"
    }
   ],
   "source": [
    "dict(map(reversed, dict_1.items()))"
   ]
  },
  {
   "cell_type": "markdown",
   "id": "5cb88370-b6e5-443a-b916-4ad7b915ac1c",
   "metadata": {},
   "source": [
    "**Converting Lists Into Dictionaries**"
   ]
  },
  {
   "cell_type": "code",
   "execution_count": 31,
   "id": "fe9640ae-a338-4903-be59-ab55cd346231",
   "metadata": {},
   "outputs": [
    {
     "data": {
      "text/plain": [
       "{'London': 'UK', 'New York': 'US', 'Tokyo': 'Japan'}"
      ]
     },
     "execution_count": 31,
     "metadata": {},
     "output_type": "execute_result"
    }
   ],
   "source": [
    "cities = [('London', 'UK'), ('New York', 'US'), ('Tokyo', 'Japan')]\n",
    "dict(cities)"
   ]
  },
  {
   "cell_type": "code",
   "execution_count": 32,
   "id": "eb9b5cd0-dd58-4768-9eac-67133dd4512c",
   "metadata": {},
   "outputs": [
    {
     "data": {
      "text/plain": [
       "{'London': 'UK', 'Leeds': 'UK', 'Birmingham': 'UK'}"
      ]
     },
     "execution_count": 32,
     "metadata": {},
     "output_type": "execute_result"
    }
   ],
   "source": [
    "cities = ['London', 'Leeds', 'Birmingham']\n",
    "dict.fromkeys(cities,'UK')"
   ]
  },
  {
   "cell_type": "markdown",
   "id": "9d1c5d2f-3cc8-4d4b-a4e2-57864cca62f5",
   "metadata": {},
   "source": [
    "**Sorting a Dictionary**"
   ]
  },
  {
   "cell_type": "code",
   "execution_count": null,
   "id": "b05f9c16-848f-4060-bc62-d2459e70ebcf",
   "metadata": {},
   "outputs": [
    {
     "name": "stdout",
     "output_type": "stream",
     "text": [
      "[('New York', '1'), ('London', '2'), ('Tokyo', '3')]\n"
     ]
    }
   ],
   "source": [
    "cities = {'London': '2', 'Tokyo': '3', 'New York': '1'}\n",
    "print(sorted(cities.items(),key=lambda d:d[1]))\n",
    "# [('New York', '1'), ('London', '2'), ('Tokyo', '3')]"
   ]
  },
  {
   "cell_type": "code",
   "execution_count": null,
   "id": "b5ebbc8d-c036-4af9-8694-c900755618dd",
   "metadata": {},
   "outputs": [],
   "source": []
  },
  {
   "cell_type": "code",
   "execution_count": null,
   "id": "bc8e9ae0-34d4-4442-a732-83baa5a3deef",
   "metadata": {},
   "outputs": [],
   "source": []
  }
 ],
 "metadata": {
  "kernelspec": {
   "display_name": "Python 3 (ipykernel)",
   "language": "python",
   "name": "python3"
  },
  "language_info": {
   "codemirror_mode": {
    "name": "ipython",
    "version": 3
   },
   "file_extension": ".py",
   "mimetype": "text/x-python",
   "name": "python",
   "nbconvert_exporter": "python",
   "pygments_lexer": "ipython3",
   "version": "3.11.1"
  }
 },
 "nbformat": 4,
 "nbformat_minor": 5
}
