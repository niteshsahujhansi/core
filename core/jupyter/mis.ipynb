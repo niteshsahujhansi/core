{
 "cells": [
  {
   "cell_type": "markdown",
   "id": "a6febe34-5676-4e51-8163-d86245da422e",
   "metadata": {},
   "source": [
    "**file handling**"
   ]
  },
  {
   "cell_type": "code",
   "execution_count": 3,
   "id": "70826277-9261-49a6-a0a4-b8063a028ef6",
   "metadata": {},
   "outputs": [
    {
     "name": "stdout",
     "output_type": "stream",
     "text": [
      "Hello World\n"
     ]
    }
   ],
   "source": [
    "file1 = open(\"test.txt\", \"r\")\n",
    "\n",
    "read_content = file1.read()\n",
    "\n",
    "print(read_content)\n",
    "\n",
    "file1.close()"
   ]
  },
  {
   "cell_type": "code",
   "execution_count": 10,
   "id": "ceeb12d8-9954-4d2a-bf43-ecc0ff40f4e3",
   "metadata": {},
   "outputs": [
    {
     "name": "stdout",
     "output_type": "stream",
     "text": [
      "hurray\n"
     ]
    }
   ],
   "source": [
    "with open(\"test.txt\", \"r\") as file1:\n",
    "    read_content = file1.read()\n",
    "    print(read_content)"
   ]
  },
  {
   "cell_type": "code",
   "execution_count": 9,
   "id": "6dc29429-74bc-40b5-8b22-cefc3935ad2c",
   "metadata": {},
   "outputs": [],
   "source": [
    "with open(\"test.txt\", \"w\") as file1:\n",
    "    file1.write('hurray')"
   ]
  },
  {
   "cell_type": "code",
   "execution_count": null,
   "id": "b3208c4f-f03d-459e-b197-1a5984f3cf4a",
   "metadata": {},
   "outputs": [],
   "source": []
  },
  {
   "cell_type": "markdown",
   "id": "6a7c37d0-e126-4fb8-ad65-8989941cb8f2",
   "metadata": {},
   "source": [
    "**Exceptions heandling**"
   ]
  },
  {
   "cell_type": "markdown",
   "id": "82963fdb-12a8-4a28-92e6-d0826f356bbd",
   "metadata": {},
   "source": [
    "FileNotFoundError, ZeroDivisionError, ImportError, IndexError, KeyError, NameError, SyntaxError, RuntimeError."
   ]
  },
  {
   "cell_type": "code",
   "execution_count": 16,
   "id": "86835c31-d46b-455a-9219-4130dabfe1e9",
   "metadata": {},
   "outputs": [],
   "source": [
    "try:\n",
    "    # Some Code.... \n",
    "    pass\n",
    "    \n",
    "except:\n",
    "    # optional block\n",
    "    # Handling of exception (if required)\n",
    "    pass\n",
    "\n",
    "else:\n",
    "    # execute if no exception\n",
    "    pass\n",
    "\n",
    "finally:\n",
    "    # Some code .....(always executed)\n",
    "    pass"
   ]
  },
  {
   "cell_type": "code",
   "execution_count": null,
   "id": "72f2531c-1463-429f-9dd2-731e9c355045",
   "metadata": {},
   "outputs": [],
   "source": []
  }
 ],
 "metadata": {
  "kernelspec": {
   "display_name": "Python 3 (ipykernel)",
   "language": "python",
   "name": "python3"
  },
  "language_info": {
   "codemirror_mode": {
    "name": "ipython",
    "version": 3
   },
   "file_extension": ".py",
   "mimetype": "text/x-python",
   "name": "python",
   "nbconvert_exporter": "python",
   "pygments_lexer": "ipython3",
   "version": "3.11.1"
  }
 },
 "nbformat": 4,
 "nbformat_minor": 5
}
