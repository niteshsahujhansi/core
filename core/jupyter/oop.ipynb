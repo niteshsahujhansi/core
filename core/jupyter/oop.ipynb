{
 "cells": [
  {
   "cell_type": "code",
   "execution_count": null,
   "id": "b532b1b1-9acd-44e9-a115-b9dcf41950b9",
   "metadata": {},
   "outputs": [],
   "source": []
  },
  {
   "cell_type": "markdown",
   "id": "9c7e2f4d-ef53-47a6-92aa-4f2df2d44187",
   "metadata": {},
   "source": [
    "class is a blueprint for creating objects.\n",
    "\n",
    "an object is any entity that has attributes and methods."
   ]
  },
  {
   "cell_type": "code",
   "execution_count": null,
   "id": "579ca7aa-ca89-4720-9348-0d90191fae41",
   "metadata": {},
   "outputs": [],
   "source": []
  },
  {
   "cell_type": "markdown",
   "id": "79651d13-1cfd-4ad6-b543-76de30ce00f4",
   "metadata": {},
   "source": [
    "__init__() is the constructor function that is called whenever a new object of that class is instantiated."
   ]
  },
  {
   "cell_type": "markdown",
   "id": "dae136a7-e314-4820-adf2-e748529a2a6a",
   "metadata": {},
   "source": [
    "# Inheritance"
   ]
  },
  {
   "cell_type": "markdown",
   "id": "9f86652f-5b1e-4564-a74f-0b5bb8ecc14e",
   "metadata": {},
   "source": [
    "parent clild"
   ]
  },
  {
   "cell_type": "code",
   "execution_count": 1,
   "id": "7d0856eb-0b74-411e-abe3-a3f97d0b3caf",
   "metadata": {},
   "outputs": [
    {
     "name": "stdout",
     "output_type": "stream",
     "text": [
      "nitesh\n",
      "Yes, nitesh is a hardworking person.\n"
     ]
    }
   ],
   "source": [
    "class Person:\n",
    "    \n",
    "    def __init__(self, name, aadhar_no):\n",
    "        self.name = name\n",
    "        self.aadhar_no = aadhar_no\n",
    "\n",
    "    def is_hard_working(self):\n",
    "        print('Yes,',self.name,'is a hardworking person.')\n",
    "\n",
    "class Emp(Person):\n",
    "    \n",
    "    def __init__(self, name, aadhar_no, emp_id):\n",
    "\n",
    "        self.emp_id = emp_id\n",
    "        Person.__init__(self, name, aadhar_no)\n",
    "\n",
    "\n",
    "emp_1 = Emp('nitesh', 236098350086, 101)\n",
    "\n",
    "print(emp_1.name)\n",
    "\n",
    "emp_1.is_hard_working()"
   ]
  },
  {
   "cell_type": "markdown",
   "id": "e10cff72-ee6e-475d-a18f-8e26077df22c",
   "metadata": {},
   "source": [
    "# Polymorphism"
   ]
  },
  {
   "cell_type": "markdown",
   "id": "d2c5fdd1-bebe-4f53-96ee-9f33a430b55e",
   "metadata": {},
   "source": [
    "polymorphism means the same function name (but different signatures) being used for different types. The key difference is the data types and number of arguments used in function"
   ]
  },
  {
   "cell_type": "code",
   "execution_count": 2,
   "id": "40530e0a-604d-4cfd-9043-13747727b668",
   "metadata": {},
   "outputs": [
    {
     "name": "stdout",
     "output_type": "stream",
     "text": [
      "5\n",
      "3\n"
     ]
    }
   ],
   "source": [
    "# in-built poly-morphic\n",
    "\n",
    "print(len(\"geeks\"))\n",
    "\n",
    "print(len([10, 20, 30]))"
   ]
  },
  {
   "cell_type": "code",
   "execution_count": null,
   "id": "73d0195b-64dc-400d-9a03-74a41ed8af20",
   "metadata": {},
   "outputs": [],
   "source": []
  },
  {
   "cell_type": "code",
   "execution_count": null,
   "id": "84a16e63-582e-42d1-87b4-1eb5e2ae8910",
   "metadata": {},
   "outputs": [],
   "source": []
  },
  {
   "cell_type": "code",
   "execution_count": 11,
   "id": "90df31ed-fd50-4f84-b44d-451d89085bc5",
   "metadata": {},
   "outputs": [
    {
     "data": {
      "text/plain": [
       "4"
      ]
     },
     "execution_count": 11,
     "metadata": {},
     "output_type": "execute_result"
    }
   ],
   "source": []
  },
  {
   "cell_type": "code",
   "execution_count": null,
   "id": "a488a00c-9b09-45fd-aaee-487d615145e0",
   "metadata": {},
   "outputs": [],
   "source": []
  }
 ],
 "metadata": {
  "kernelspec": {
   "display_name": "Python 3 (ipykernel)",
   "language": "python",
   "name": "python3"
  },
  "language_info": {
   "codemirror_mode": {
    "name": "ipython",
    "version": 3
   },
   "file_extension": ".py",
   "mimetype": "text/x-python",
   "name": "python",
   "nbconvert_exporter": "python",
   "pygments_lexer": "ipython3",
   "version": "3.11.1"
  }
 },
 "nbformat": 4,
 "nbformat_minor": 5
}
