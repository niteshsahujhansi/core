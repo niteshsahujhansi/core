{
 "cells": [
  {
   "cell_type": "code",
   "execution_count": null,
   "id": "98ab16e2",
   "metadata": {},
   "outputs": [],
   "source": []
  },
  {
   "cell_type": "markdown",
   "id": "113b5409",
   "metadata": {},
   "source": [
    "An underscore _ at the beginning is used to denote private variables in Python. (naming convention)"
   ]
  },
  {
   "cell_type": "code",
   "execution_count": null,
   "id": "a4b9849b",
   "metadata": {},
   "outputs": [],
   "source": []
  },
  {
   "cell_type": "markdown",
   "id": "60132964",
   "metadata": {},
   "source": [
    "# Itrator"
   ]
  },
  {
   "cell_type": "markdown",
   "id": "434c194c",
   "metadata": {},
   "source": [
    "an object that can be iterated upon"
   ]
  },
  {
   "cell_type": "markdown",
   "id": "61d6ce52",
   "metadata": {},
   "source": [
    "must implement two special methods, __iter__() and __next__()"
   ]
  },
  {
   "cell_type": "code",
   "execution_count": 1,
   "id": "b211a1a1",
   "metadata": {},
   "outputs": [
    {
     "name": "stdout",
     "output_type": "stream",
     "text": [
      "4\n",
      "7\n",
      "0\n",
      "3\n"
     ]
    }
   ],
   "source": [
    "# define a list\n",
    "my_list = [4, 7, 0, 3]\n",
    "\n",
    "# get an iterator using iter()\n",
    "my_iter = iter(my_list)\n",
    "\n",
    "# iterate through it using next()\n",
    "\n",
    "# Output: 4\n",
    "print(next(my_iter))\n",
    "\n",
    "# Output: 7\n",
    "print(next(my_iter))\n",
    "\n",
    "# next(obj) is same as obj.__next__()\n",
    "\n",
    "# Output: 0\n",
    "print(my_iter.__next__())\n",
    "\n",
    "# Output: 3\n",
    "print(my_iter.__next__())\n",
    "\n",
    "# This will raise error, no items left\n",
    "# next(my_iter)"
   ]
  },
  {
   "cell_type": "markdown",
   "id": "26796bca",
   "metadata": {},
   "source": [
    "Building Custom Iterators"
   ]
  },
  {
   "cell_type": "code",
   "execution_count": 2,
   "id": "f0978063",
   "metadata": {},
   "outputs": [
    {
     "name": "stdout",
     "output_type": "stream",
     "text": [
      "1\n",
      "2\n",
      "4\n",
      "8\n",
      "16\n"
     ]
    }
   ],
   "source": [
    "class PowTwo:\n",
    "    \"\"\"Class to implement an iterator\n",
    "    of powers of two\"\"\"\n",
    "\n",
    "    def __init__(self, max=0):\n",
    "        self.max = max\n",
    "\n",
    "    def __iter__(self):\n",
    "        self.n = 0\n",
    "        return self\n",
    "\n",
    "    def __next__(self):\n",
    "        if self.n <= self.max:\n",
    "            result = 2 ** self.n\n",
    "            self.n += 1\n",
    "            return result\n",
    "        else:\n",
    "            raise StopIteration\n",
    "\n",
    "\n",
    "# create an object\n",
    "numbers = PowTwo(4)\n",
    "\n",
    "# create an iterable from the object\n",
    "i = iter(numbers)\n",
    "\n",
    "# Using next to get to the next iterator element\n",
    "print(next(i))\n",
    "print(next(i))\n",
    "print(next(i))\n",
    "print(next(i))\n",
    "print(next(i))"
   ]
  },
  {
   "cell_type": "markdown",
   "id": "3a5f79f5",
   "metadata": {},
   "source": [
    "# Generator"
   ]
  },
  {
   "cell_type": "markdown",
   "id": "e47d639a",
   "metadata": {},
   "source": [
    "a generator is a function that returns an object (iterator) which we can iterate over (one value at a time)."
   ]
  },
  {
   "cell_type": "markdown",
   "id": "e5dafc76",
   "metadata": {},
   "source": [
    " with a yield statement instead of a return statement."
   ]
  },
  {
   "cell_type": "markdown",
   "id": "17b6bbaa",
   "metadata": {},
   "source": [
    "If a function contains at least one yield statement, it becomes a generator function."
   ]
  },
  {
   "cell_type": "markdown",
   "id": "c135b014",
   "metadata": {},
   "source": [
    "The difference is that while a return statement terminates a function entirely, yield statement pauses the function saving all its states and later continues from there on successive calls."
   ]
  },
  {
   "cell_type": "markdown",
   "id": "f54ec3d9",
   "metadata": {},
   "source": [
    "Methods like __iter__() and __next__() are implemented automatically. So we can iterate through the items using next()."
   ]
  },
  {
   "cell_type": "markdown",
   "id": "49455d37",
   "metadata": {},
   "source": [
    "StopIteration is raised automatically"
   ]
  },
  {
   "cell_type": "code",
   "execution_count": 3,
   "id": "14fedb14",
   "metadata": {},
   "outputs": [
    {
     "name": "stdout",
     "output_type": "stream",
     "text": [
      "This is printed first\n",
      "1\n",
      "This is printed second\n",
      "2\n",
      "This is printed at last\n",
      "3\n"
     ]
    }
   ],
   "source": [
    "# A simple generator function\n",
    "def my_gen():\n",
    "    n = 1\n",
    "    print('This is printed first')\n",
    "    # Generator function contains yield statements\n",
    "    yield n\n",
    "\n",
    "    n += 1\n",
    "    print('This is printed second')\n",
    "    yield n\n",
    "\n",
    "    n += 1\n",
    "    print('This is printed at last')\n",
    "    yield n\n",
    "\n",
    "\n",
    "# Using for loop\n",
    "for item in my_gen():\n",
    "    print(item)"
   ]
  },
  {
   "cell_type": "code",
   "execution_count": 4,
   "id": "245c2296",
   "metadata": {},
   "outputs": [
    {
     "name": "stdout",
     "output_type": "stream",
     "text": [
      "[1, 9, 36, 100]\n",
      "<generator object <genexpr> at 0x00000294102683C0>\n"
     ]
    }
   ],
   "source": [
    "# Initialize the list\n",
    "my_list = [1, 3, 6, 10]\n",
    "\n",
    "# square each term using list comprehension\n",
    "list_ = [x**2 for x in my_list]\n",
    "\n",
    "# same thing can be done using a generator expression\n",
    "# generator expressions are surrounded by parenthesis ()\n",
    "generator = (x**2 for x in my_list)\n",
    "\n",
    "print(list_)\n",
    "print(generator)"
   ]
  },
  {
   "cell_type": "code",
   "execution_count": 5,
   "id": "ac621d55",
   "metadata": {},
   "outputs": [
    {
     "name": "stdout",
     "output_type": "stream",
     "text": [
      "1\n",
      "2\n",
      "4\n"
     ]
    }
   ],
   "source": [
    "def PowTwoGen(max=0):\n",
    "    n = 0\n",
    "    while n < max:\n",
    "        yield 2 ** n\n",
    "        n += 1\n",
    "\n",
    "obj = PowTwoGen(3)\n",
    "print(next(obj))\n",
    "print(next(obj))\n",
    "print(next(obj))"
   ]
  },
  {
   "cell_type": "raw",
   "id": "34fa05d1",
   "metadata": {},
   "source": [
    "Easy to Implement\n",
    "Memory Efficient\n",
    "Represent Infinite Stream\n",
    "Pipelining Generators"
   ]
  },
  {
   "cell_type": "markdown",
   "id": "39b0319f-f4c3-4154-b407-f32f457e22ad",
   "metadata": {},
   "source": [
    "# closure"
   ]
  },
  {
   "cell_type": "markdown",
   "id": "bc84a85b-80c8-4bef-8f55-988d1ff53f96",
   "metadata": {},
   "source": [
    "technique by which some data (\"Hello in this case) gets attached to the code is called closure in Python."
   ]
  },
  {
   "cell_type": "markdown",
   "id": "a9bf914d-8470-4d1f-991d-971067912e2c",
   "metadata": {},
   "source": [
    "We must have a nested function (function inside a function).\n",
    "\n",
    "The nested function must refer to a value defined in the enclosing function.\n",
    "\n",
    "The enclosing function must return the nested function."
   ]
  },
  {
   "cell_type": "markdown",
   "id": "f4921ed4-d4d6-4835-8594-c04214fa0385",
   "metadata": {},
   "source": [
    "Closures can avoid the use of global values and provides some form of data hiding."
   ]
  },
  {
   "cell_type": "markdown",
   "id": "240d2e0b-2c8d-40ff-985d-467574800c68",
   "metadata": {},
   "source": [
    "When there are few methods (one method in most cases) to be implemented in a class, closures can provide an alternate"
   ]
  },
  {
   "cell_type": "code",
   "execution_count": 6,
   "id": "76d693d0-b6e2-46b8-b888-9be3fb5b4bf0",
   "metadata": {},
   "outputs": [
    {
     "name": "stdout",
     "output_type": "stream",
     "text": [
      "27\n",
      "15\n",
      "30\n"
     ]
    }
   ],
   "source": [
    "def make_multiplier_of(n):\n",
    "    def multiplier(x):\n",
    "        return x * n\n",
    "    return multiplier\n",
    "\n",
    "\n",
    "# Multiplier of 3\n",
    "times3 = make_multiplier_of(3)\n",
    "\n",
    "# Multiplier of 5\n",
    "times5 = make_multiplier_of(5)\n",
    "\n",
    "# Output: 27\n",
    "print(times3(9))\n",
    "\n",
    "# Output: 15\n",
    "print(times5(3))\n",
    "\n",
    "# Output: 30\n",
    "print(times5(times3(2)))"
   ]
  },
  {
   "cell_type": "markdown",
   "id": "58fbdac8",
   "metadata": {},
   "source": [
    "# Decorators\n"
   ]
  },
  {
   "cell_type": "markdown",
   "id": "1fec7207",
   "metadata": {},
   "source": [
    "add functionality to an existing code(function)"
   ]
  },
  {
   "cell_type": "markdown",
   "id": "a5a598d8",
   "metadata": {},
   "source": [
    "Such functions that take other functions as arguments are also called higher order functions."
   ]
  },
  {
   "cell_type": "markdown",
   "id": "e6caa319",
   "metadata": {},
   "source": [
    "a decorator is a callable (function or method) that returns a callable."
   ]
  },
  {
   "cell_type": "markdown",
   "id": "ecf7e673",
   "metadata": {},
   "source": [
    "Basically, a decorator takes in a function, adds some functionality and returns it."
   ]
  },
  {
   "cell_type": "code",
   "execution_count": 7,
   "id": "a84d35b2",
   "metadata": {},
   "outputs": [
    {
     "data": {
      "text/plain": [
       "2.0"
      ]
     },
     "execution_count": 7,
     "metadata": {},
     "output_type": "execute_result"
    }
   ],
   "source": [
    "\n",
    "def smart_div(func,):\n",
    "    \n",
    "    def inner(a,b):\n",
    "        if b>a:\n",
    "            a,b = b,a \n",
    "        return func(a,b)\n",
    "    return inner\n",
    "\n",
    "@smart_div\n",
    "def div(a,b):\n",
    "    return a/b \n",
    "\n",
    "# div = smart_div(div)\n",
    "\n",
    "div(2,4)"
   ]
  },
  {
   "cell_type": "markdown",
   "id": "17cef88c",
   "metadata": {},
   "source": [
    "property(fget=None, fset=None, fdel=None, doc=None)"
   ]
  },
  {
   "cell_type": "markdown",
   "id": "bf5b50a7-6800-4bc1-b2c6-88caaf0ec988",
   "metadata": {},
   "source": [
    "# @property"
   ]
  },
  {
   "cell_type": "markdown",
   "id": "896acecc-b79d-4275-bdfa-eb75595e6d8b",
   "metadata": {},
   "source": [
    "a pythonic way to use getters and setters"
   ]
  },
  {
   "cell_type": "markdown",
   "id": "6d6010bc-2cae-415e-bfa6-ee855c1da1f4",
   "metadata": {},
   "source": [
    "implemente new restriction to set value"
   ]
  },
  {
   "cell_type": "markdown",
   "id": "82150c31-83a8-4b21-a594-4832e2eb544c",
   "metadata": {},
   "source": [
    "property(fget=None, fset=None, fdel=None, doc=None)"
   ]
  },
  {
   "cell_type": "code",
   "execution_count": 8,
   "id": "c49dcee7-16d7-4681-b1d6-8504bcda6e90",
   "metadata": {},
   "outputs": [
    {
     "name": "stdout",
     "output_type": "stream",
     "text": [
      "Setting value...\n",
      "Getting value...\n",
      "37\n",
      "Getting value...\n",
      "98.60000000000001\n"
     ]
    }
   ],
   "source": [
    "# Using @property decorator\n",
    "class Celsius:\n",
    "    def __init__(self, temperature=0):\n",
    "        self.temperature = temperature\n",
    "\n",
    "    def to_fahrenheit(self):\n",
    "        return (self.temperature * 1.8) + 32\n",
    "\n",
    "    @property\n",
    "    def temperature(self):\n",
    "        print(\"Getting value...\")\n",
    "        return self._temperature\n",
    "\n",
    "    @temperature.setter\n",
    "    def temperature(self, value):\n",
    "        print(\"Setting value...\")\n",
    "        if value < -273.15:\n",
    "            raise ValueError(\"Temperature below -273 is not possible\")\n",
    "        self._temperature = value\n",
    "\n",
    "\n",
    "# create an object\n",
    "human = Celsius(37)\n",
    "\n",
    "print(human.temperature)\n",
    "\n",
    "print(human.to_fahrenheit())\n",
    "\n",
    "# coldest_thing = Celsius(-300)\n",
    "\n"
   ]
  },
  {
   "cell_type": "code",
   "execution_count": null,
   "id": "c4c8863c-dc80-42d0-84a1-2225927b3736",
   "metadata": {},
   "outputs": [],
   "source": []
  }
 ],
 "metadata": {
  "kernelspec": {
   "display_name": "Python 3 (ipykernel)",
   "language": "python",
   "name": "python3"
  },
  "language_info": {
   "codemirror_mode": {
    "name": "ipython",
    "version": 3
   },
   "file_extension": ".py",
   "mimetype": "text/x-python",
   "name": "python",
   "nbconvert_exporter": "python",
   "pygments_lexer": "ipython3",
   "version": "3.10.6"
  }
 },
 "nbformat": 4,
 "nbformat_minor": 5
}
